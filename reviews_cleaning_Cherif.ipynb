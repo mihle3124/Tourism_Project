{
 "cells": [
  {
   "cell_type": "code",
   "execution_count": null,
   "id": "4ce05868-fbfc-4156-afc2-96038ce337c4",
   "metadata": {
    "tags": []
   },
   "outputs": [],
   "source": [
    "# Dependencies and Setup\n",
    "import matplotlib.pyplot as plt\n",
    "import pandas as pd\n",
    "import numpy as np\n",
    "import csv\n",
    "from IPython.display import display\n",
    "pd.options.display.max_columns = None"
   ]
  },
  {
   "cell_type": "code",
   "execution_count": null,
   "id": "637f48b2-8527-4311-a692-c46efc39d191",
   "metadata": {
    "tags": []
   },
   "outputs": [],
   "source": [
    "# Load the Dataframe\n",
    "reviews_df23 =pd.read_csv(\"../airbnb_reviews_oct_1_2023.csv\")"
   ]
  },
  {
   "cell_type": "code",
   "execution_count": null,
   "id": "e729d7c8-c9c4-4417-a70e-6826d3848e0d",
   "metadata": {},
   "outputs": [],
   "source": [
    "reviews_df23.info()"
   ]
  },
  {
   "cell_type": "code",
   "execution_count": null,
   "id": "d8b90320-6a3a-4420-abf4-268d1b245464",
   "metadata": {
    "tags": []
   },
   "outputs": [],
   "source": [
    "time_series_count = reviews_df23['date'].value_counts()"
   ]
  },
  {
   "cell_type": "code",
   "execution_count": null,
   "id": "caa476ac-8def-41ab-a234-140b22dd8174",
   "metadata": {
    "tags": []
   },
   "outputs": [],
   "source": [
    "date = np.array(time_series_count.index)\n",
    "\n",
    "count = np.array(time_series_count)\n",
    "\n",
    "display(date[:5])\n",
    "display(count[:5])"
   ]
  },
  {
   "cell_type": "code",
   "execution_count": null,
   "id": "18c66667-f371-4f42-942c-6a73fcafefa6",
   "metadata": {
    "tags": []
   },
   "outputs": [],
   "source": [
    "review_time_series_count = pd.DataFrame()\n",
    "\n",
    "review_time_series_count[\"Date\"] = date\n",
    "review_time_series_count[\"Reviews_Count\"] = count"
   ]
  },
  {
   "cell_type": "code",
   "execution_count": null,
   "id": "cde88395-74f3-46c4-b4a9-973069f53583",
   "metadata": {
    "tags": []
   },
   "outputs": [],
   "source": [
    "reviews_sorted_df = review_time_series_count.sort_values(by=\"Date\")\n",
    "\n",
    "reviews_sorted_df.sample(5)"
   ]
  },
  {
   "cell_type": "code",
   "execution_count": null,
   "id": "c7b1ba5a-e92f-494f-aa4a-390ce45fb318",
   "metadata": {
    "tags": []
   },
   "outputs": [],
   "source": [
    "# Daily Review Counts\n",
    "reviews_sorted_df.plot.line(x=\"Date\",y=\"Reviews_Count\", figsize=(15,9), alpha=.8)\n",
    "plt.figure(figsize=[15,9])\n",
    "\n",
    "plt.show()"
   ]
  },
  {
   "cell_type": "code",
   "execution_count": null,
   "id": "b80d84c5-0675-48d3-aac0-4186b975aa47",
   "metadata": {
    "tags": []
   },
   "outputs": [],
   "source": [
    "# Convert Date column to datetime and parse into day/month/year columns\n",
    "unparsed_date_df = reviews_sorted_df.copy() \n",
    "\n",
    "unparsed_date_df['Date']= pd.to_datetime(unparsed_date_df['Date'])\n",
    "\n",
    "unparsed_date_df['day'] = unparsed_date_df['Date'].dt.day\n",
    "unparsed_date_df['month'] = unparsed_date_df['Date'].dt.month\n",
    "unparsed_date_df['year'] = unparsed_date_df['Date'].dt.year\n",
    "\n",
    "unparsed_date_df.head()"
   ]
  },
  {
   "cell_type": "code",
   "execution_count": null,
   "id": "dc7f53e5-72b8-45d3-9220-6fad37e07693",
   "metadata": {
    "tags": []
   },
   "outputs": [],
   "source": [
    "# Group the new parsed data and convert to annual and monthly counts\n",
    "parsed_date = unparsed_date_df.copy()\n",
    "\n",
    "r_month_df = parsed_date[[\"month\", \"year\", \"Reviews_Count\"]].groupby(by=[\"year\",\"month\"]).sum()\n",
    "r_year_df = parsed_date[[\"year\", \"Reviews_Count\"]].groupby(by=[\"year\"]).sum()\n",
    "\n",
    "r_month_df.head(5)"
   ]
  },
  {
   "cell_type": "code",
   "execution_count": null,
   "id": "0deb312d-2c9b-45d0-9a8a-6242e06f75e1",
   "metadata": {
    "tags": []
   },
   "outputs": [],
   "source": [
    "# Create a number sequence for the monthly counts\n",
    "r_my_df = r_month_df.copy()\n",
    "\n",
    "num_month_list = [x for x in range(len(r_my_df))]\n",
    "\n",
    "r_my_df[\"month_num\"] = num_month_list\n",
    "\n",
    "# drop last month - October 2023 has only one day of data\n",
    "r_my_df.drop(r_my_df.tail(1).index,\n",
    "        inplace = True)\n",
    "\n",
    "# display(num_month_list)\n",
    "r_my_df.head(5)"
   ]
  },
  {
   "cell_type": "code",
   "execution_count": null,
   "id": "30c403f0-a681-40ff-90bb-d31e87524f2a",
   "metadata": {
    "tags": []
   },
   "outputs": [],
   "source": [
    "# reset index and combine date column for months\n",
    "# r_my_df = r_month_df.copy()\n",
    "\n",
    "# r_my_df = r_my_df.reset_index()\n",
    "# r_my_df[\"Date\"] = r_my_df['year'] + (r_my_df['month']/100)\n",
    "\n",
    "# r_my_df = r_my_df[[\"Date\", \"Reviews_Count\"]]\n",
    "\n",
    "# r_my_df.head(25)"
   ]
  },
  {
   "cell_type": "code",
   "execution_count": null,
   "id": "4107fcf2-33d7-4f4b-a47c-68846d63635b",
   "metadata": {
    "tags": []
   },
   "outputs": [],
   "source": [
    "# reset index and combine date column for annual counts\n",
    "r_y_df = r_year_df.copy()\n",
    "r_y_df = r_y_df.reset_index()\n",
    "\n",
    "# drop 2023, an incomplete year missing 3 months of data\n",
    "r_y_df.drop(r_y_df.tail(1).index,\n",
    "        inplace = True)\n",
    "\n",
    "# Add years for possible forecasting\n",
    "more_years = pd.DataFrame(data = {'year': [2023, 2024, 2025], 'Reviews_Count': [None, None, None]})\n",
    "r_xyears_df = pd.concat([r_y_df, more_years])\n",
    "\n",
    "r_xyears_df.tail()"
   ]
  },
  {
   "cell_type": "code",
   "execution_count": null,
   "id": "73f244fe-6b49-49bf-8c68-320622d9ec4f",
   "metadata": {
    "tags": []
   },
   "outputs": [],
   "source": [
    "# monthly plot\n",
    "r_my_df.plot.line(x=\"month_num\",y=\"Reviews_Count\", figsize=(15,9))\n",
    "plt.figure(figsize=[15,9])\n",
    "\n",
    "plt.show()"
   ]
  },
  {
   "cell_type": "code",
   "execution_count": null,
   "id": "30cb893a-d89e-4e8a-96ef-13b92dfcca8b",
   "metadata": {
    "tags": []
   },
   "outputs": [],
   "source": [
    "# annual count of reviews\n",
    "r_xyears_df.plot.line(x=\"year\",y=\"Reviews_Count\", figsize=(15,9))\n",
    "plt.figure(figsize=[15,9])\n",
    "\n",
    "plt.show()"
   ]
  },
  {
   "cell_type": "code",
   "execution_count": null,
   "id": "5a17b1a4-4ecb-4ed9-9a4a-aebe19a75478",
   "metadata": {},
   "outputs": [],
   "source": []
  }
 ],
 "metadata": {
  "kernelspec": {
   "display_name": "Python 3 (ipykernel)",
   "language": "python",
   "name": "python3"
  },
  "language_info": {
   "codemirror_mode": {
    "name": "ipython",
    "version": 3
   },
   "file_extension": ".py",
   "mimetype": "text/x-python",
   "name": "python",
   "nbconvert_exporter": "python",
   "pygments_lexer": "ipython3",
   "version": "3.11.4"
  }
 },
 "nbformat": 4,
 "nbformat_minor": 5
}
