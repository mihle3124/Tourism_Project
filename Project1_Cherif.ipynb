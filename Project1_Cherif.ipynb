{
 "cells": [
  {
   "cell_type": "code",
   "execution_count": 1,
   "id": "84e25b95-739b-4868-80ec-31ead54faa96",
   "metadata": {
    "tags": []
   },
   "outputs": [],
   "source": [
    "# Dependencies and Setup\n",
    "import matplotlib.pyplot as plt\n",
    "import pandas as pd\n",
    "import numpy as np\n",
    "import csv\n",
    "from pathlib import Path\n",
    "from IPython.display import display\n",
    "pd.options.display.max_columns = None"
   ]
  },
  {
   "cell_type": "markdown",
   "id": "d9300d7a-e005-4085-91e6-36b57025d365",
   "metadata": {},
   "source": [
    "# Cleaning"
   ]
  },
  {
   "cell_type": "code",
   "execution_count": 3,
   "id": "1c1e54a4-0a4f-4696-ae1b-442e016d9351",
   "metadata": {
    "tags": []
   },
   "outputs": [],
   "source": [
    "# Load DataFrame for 2023 listings\n",
    "listings_big_df23 = pd.read_csv(\"../airbnb_listings_oct_1_2023.csv.gz\")\n",
    "l_df23 = listings_big_df23.copy()"
   ]
  },
  {
   "cell_type": "code",
   "execution_count": 4,
   "id": "e8bb2d9e-da36-46ab-9a25-932f30133f3a",
   "metadata": {
    "tags": []
   },
   "outputs": [
    {
     "name": "stdout",
     "output_type": "stream",
     "text": [
      "<class 'pandas.core.frame.DataFrame'>\n",
      "RangeIndex: 38792 entries, 0 to 38791\n",
      "Data columns (total 75 columns):\n",
      " #   Column                                        Non-Null Count  Dtype  \n",
      "---  ------                                        --------------  -----  \n",
      " 0   id                                            38792 non-null  int64  \n",
      " 1   listing_url                                   38792 non-null  object \n",
      " 2   scrape_id                                     38792 non-null  int64  \n",
      " 3   last_scraped                                  38792 non-null  object \n",
      " 4   source                                        38792 non-null  object \n",
      " 5   name                                          38792 non-null  object \n",
      " 6   description                                   38223 non-null  object \n",
      " 7   neighborhood_overview                         22556 non-null  object \n",
      " 8   picture_url                                   38792 non-null  object \n",
      " 9   host_id                                       38792 non-null  int64  \n",
      " 10  host_url                                      38792 non-null  object \n",
      " 11  host_name                                     38787 non-null  object \n",
      " 12  host_since                                    38787 non-null  object \n",
      " 13  host_location                                 30515 non-null  object \n",
      " 14  host_about                                    21643 non-null  object \n",
      " 15  host_response_time                            25618 non-null  object \n",
      " 16  host_response_rate                            25618 non-null  object \n",
      " 17  host_acceptance_rate                          26888 non-null  object \n",
      " 18  host_is_superhost                             38537 non-null  object \n",
      " 19  host_thumbnail_url                            38787 non-null  object \n",
      " 20  host_picture_url                              38787 non-null  object \n",
      " 21  host_neighbourhood                            31040 non-null  object \n",
      " 22  host_listings_count                           38787 non-null  float64\n",
      " 23  host_total_listings_count                     38787 non-null  float64\n",
      " 24  host_verifications                            38787 non-null  object \n",
      " 25  host_has_profile_pic                          38787 non-null  object \n",
      " 26  host_identity_verified                        38787 non-null  object \n",
      " 27  neighbourhood                                 22557 non-null  object \n",
      " 28  neighbourhood_cleansed                        38792 non-null  object \n",
      " 29  neighbourhood_group_cleansed                  38792 non-null  object \n",
      " 30  latitude                                      38792 non-null  float64\n",
      " 31  longitude                                     38792 non-null  float64\n",
      " 32  property_type                                 38792 non-null  object \n",
      " 33  room_type                                     38792 non-null  object \n",
      " 34  accommodates                                  38792 non-null  int64  \n",
      " 35  bathrooms                                     0 non-null      float64\n",
      " 36  bathrooms_text                                38750 non-null  object \n",
      " 37  bedrooms                                      21892 non-null  float64\n",
      " 38  beds                                          38129 non-null  float64\n",
      " 39  amenities                                     38792 non-null  object \n",
      " 40  price                                         38792 non-null  object \n",
      " 41  minimum_nights                                38792 non-null  int64  \n",
      " 42  maximum_nights                                38792 non-null  int64  \n",
      " 43  minimum_minimum_nights                        38792 non-null  int64  \n",
      " 44  maximum_minimum_nights                        38792 non-null  int64  \n",
      " 45  minimum_maximum_nights                        38792 non-null  int64  \n",
      " 46  maximum_maximum_nights                        38792 non-null  int64  \n",
      " 47  minimum_nights_avg_ntm                        38792 non-null  float64\n",
      " 48  maximum_nights_avg_ntm                        38792 non-null  float64\n",
      " 49  calendar_updated                              0 non-null      float64\n",
      " 50  has_availability                              38792 non-null  object \n",
      " 51  availability_30                               38792 non-null  int64  \n",
      " 52  availability_60                               38792 non-null  int64  \n",
      " 53  availability_90                               38792 non-null  int64  \n",
      " 54  availability_365                              38792 non-null  int64  \n",
      " 55  calendar_last_scraped                         38792 non-null  object \n",
      " 56  number_of_reviews                             38792 non-null  int64  \n",
      " 57  number_of_reviews_ltm                         38792 non-null  int64  \n",
      " 58  number_of_reviews_l30d                        38792 non-null  int64  \n",
      " 59  first_review                                  28440 non-null  object \n",
      " 60  last_review                                   28440 non-null  object \n",
      " 61  review_scores_rating                          28445 non-null  float64\n",
      " 62  review_scores_accuracy                        28030 non-null  float64\n",
      " 63  review_scores_cleanliness                     28040 non-null  float64\n",
      " 64  review_scores_checkin                         28026 non-null  float64\n",
      " 65  review_scores_communication                   28034 non-null  float64\n",
      " 66  review_scores_location                        28023 non-null  float64\n",
      " 67  review_scores_value                           28024 non-null  float64\n",
      " 68  license                                       2939 non-null   object \n",
      " 69  instant_bookable                              38792 non-null  object \n",
      " 70  calculated_host_listings_count                38792 non-null  int64  \n",
      " 71  calculated_host_listings_count_entire_homes   38792 non-null  int64  \n",
      " 72  calculated_host_listings_count_private_rooms  38792 non-null  int64  \n",
      " 73  calculated_host_listings_count_shared_rooms   38792 non-null  int64  \n",
      " 74  reviews_per_month                             28440 non-null  float64\n",
      "dtypes: float64(18), int64(21), object(36)\n",
      "memory usage: 22.2+ MB\n"
     ]
    }
   ],
   "source": [
    "l_df23.info()"
   ]
  },
  {
   "cell_type": "code",
   "execution_count": 5,
   "id": "913b18f2-64ff-44ca-88e6-f3dd42007b3d",
   "metadata": {
    "tags": []
   },
   "outputs": [
    {
     "data": {
      "text/plain": [
       "Index(['id', 'listing_url', 'scrape_id', 'last_scraped', 'source', 'name',\n",
       "       'description', 'neighborhood_overview', 'picture_url', 'host_id',\n",
       "       'host_url', 'host_name', 'host_since', 'host_location', 'host_about',\n",
       "       'host_response_time', 'host_response_rate', 'host_acceptance_rate',\n",
       "       'host_is_superhost', 'host_thumbnail_url', 'host_picture_url',\n",
       "       'host_neighbourhood', 'host_listings_count',\n",
       "       'host_total_listings_count', 'host_verifications',\n",
       "       'host_has_profile_pic', 'host_identity_verified', 'neighbourhood',\n",
       "       'neighbourhood_cleansed', 'neighbourhood_group_cleansed', 'latitude',\n",
       "       'longitude', 'property_type', 'room_type', 'accommodates', 'bathrooms',\n",
       "       'bathrooms_text', 'bedrooms', 'beds', 'amenities', 'price',\n",
       "       'minimum_nights', 'maximum_nights', 'minimum_minimum_nights',\n",
       "       'maximum_minimum_nights', 'minimum_maximum_nights',\n",
       "       'maximum_maximum_nights', 'minimum_nights_avg_ntm',\n",
       "       'maximum_nights_avg_ntm', 'calendar_updated', 'has_availability',\n",
       "       'availability_30', 'availability_60', 'availability_90',\n",
       "       'availability_365', 'calendar_last_scraped', 'number_of_reviews',\n",
       "       'number_of_reviews_ltm', 'number_of_reviews_l30d', 'first_review',\n",
       "       'last_review', 'review_scores_rating', 'review_scores_accuracy',\n",
       "       'review_scores_cleanliness', 'review_scores_checkin',\n",
       "       'review_scores_communication', 'review_scores_location',\n",
       "       'review_scores_value', 'license', 'instant_bookable',\n",
       "       'calculated_host_listings_count',\n",
       "       'calculated_host_listings_count_entire_homes',\n",
       "       'calculated_host_listings_count_private_rooms',\n",
       "       'calculated_host_listings_count_shared_rooms', 'reviews_per_month'],\n",
       "      dtype='object')"
      ]
     },
     "execution_count": 5,
     "metadata": {},
     "output_type": "execute_result"
    }
   ],
   "source": [
    "l_df23.columns"
   ]
  },
  {
   "cell_type": "code",
   "execution_count": 6,
   "id": "beb32147-adfd-4dc9-aea8-642509dab673",
   "metadata": {
    "tags": []
   },
   "outputs": [
    {
     "data": {
      "text/plain": [
       "73"
      ]
     },
     "execution_count": 6,
     "metadata": {},
     "output_type": "execute_result"
    }
   ],
   "source": [
    "# Drop null columns\n",
    "l_df23.drop(labels= [\"bathrooms\",\"calendar_updated\"], axis=1, inplace=True)\n",
    "len(l_df23.columns)"
   ]
  },
  {
   "cell_type": "code",
   "execution_count": 7,
   "id": "e6fdfc8b-d9b5-419f-bf83-c9d8fcaa9fd3",
   "metadata": {
    "tags": []
   },
   "outputs": [
    {
     "data": {
      "text/html": [
       "<div>\n",
       "<style scoped>\n",
       "    .dataframe tbody tr th:only-of-type {\n",
       "        vertical-align: middle;\n",
       "    }\n",
       "\n",
       "    .dataframe tbody tr th {\n",
       "        vertical-align: top;\n",
       "    }\n",
       "\n",
       "    .dataframe thead th {\n",
       "        text-align: right;\n",
       "    }\n",
       "</style>\n",
       "<table border=\"1\" class=\"dataframe\">\n",
       "  <thead>\n",
       "    <tr style=\"text-align: right;\">\n",
       "      <th></th>\n",
       "      <th>id</th>\n",
       "      <th>listing_url</th>\n",
       "      <th>scrape_id</th>\n",
       "      <th>last_scraped</th>\n",
       "      <th>source</th>\n",
       "      <th>name</th>\n",
       "      <th>description</th>\n",
       "      <th>neighborhood_overview</th>\n",
       "      <th>picture_url</th>\n",
       "      <th>host_id</th>\n",
       "      <th>host_url</th>\n",
       "      <th>host_name</th>\n",
       "      <th>host_since</th>\n",
       "      <th>host_location</th>\n",
       "      <th>host_about</th>\n",
       "      <th>host_response_time</th>\n",
       "      <th>host_response_rate</th>\n",
       "      <th>host_acceptance_rate</th>\n",
       "      <th>host_is_superhost</th>\n",
       "      <th>host_thumbnail_url</th>\n",
       "      <th>host_picture_url</th>\n",
       "      <th>host_neighbourhood</th>\n",
       "      <th>host_listings_count</th>\n",
       "      <th>host_total_listings_count</th>\n",
       "      <th>host_verifications</th>\n",
       "      <th>host_has_profile_pic</th>\n",
       "      <th>host_identity_verified</th>\n",
       "      <th>neighbourhood</th>\n",
       "      <th>neighbourhood_cleansed</th>\n",
       "      <th>neighbourhood_group_cleansed</th>\n",
       "      <th>latitude</th>\n",
       "      <th>longitude</th>\n",
       "      <th>property_type</th>\n",
       "      <th>room_type</th>\n",
       "      <th>accommodates</th>\n",
       "      <th>bathrooms_text</th>\n",
       "      <th>bedrooms</th>\n",
       "      <th>beds</th>\n",
       "      <th>amenities</th>\n",
       "      <th>price</th>\n",
       "      <th>minimum_nights</th>\n",
       "      <th>maximum_nights</th>\n",
       "      <th>minimum_minimum_nights</th>\n",
       "      <th>maximum_minimum_nights</th>\n",
       "      <th>minimum_maximum_nights</th>\n",
       "      <th>maximum_maximum_nights</th>\n",
       "      <th>minimum_nights_avg_ntm</th>\n",
       "      <th>maximum_nights_avg_ntm</th>\n",
       "      <th>has_availability</th>\n",
       "      <th>availability_30</th>\n",
       "      <th>availability_60</th>\n",
       "      <th>availability_90</th>\n",
       "      <th>availability_365</th>\n",
       "      <th>calendar_last_scraped</th>\n",
       "      <th>number_of_reviews</th>\n",
       "      <th>number_of_reviews_ltm</th>\n",
       "      <th>number_of_reviews_l30d</th>\n",
       "      <th>first_review</th>\n",
       "      <th>last_review</th>\n",
       "      <th>review_scores_rating</th>\n",
       "      <th>review_scores_accuracy</th>\n",
       "      <th>review_scores_cleanliness</th>\n",
       "      <th>review_scores_checkin</th>\n",
       "      <th>review_scores_communication</th>\n",
       "      <th>review_scores_location</th>\n",
       "      <th>review_scores_value</th>\n",
       "      <th>license</th>\n",
       "      <th>instant_bookable</th>\n",
       "      <th>calculated_host_listings_count</th>\n",
       "      <th>calculated_host_listings_count_entire_homes</th>\n",
       "      <th>calculated_host_listings_count_private_rooms</th>\n",
       "      <th>calculated_host_listings_count_shared_rooms</th>\n",
       "      <th>reviews_per_month</th>\n",
       "    </tr>\n",
       "  </thead>\n",
       "  <tbody>\n",
       "    <tr>\n",
       "      <th>0</th>\n",
       "      <td>9630344</td>\n",
       "      <td>https://www.airbnb.com/rooms/9630344</td>\n",
       "      <td>20231001204715</td>\n",
       "      <td>2023-10-02</td>\n",
       "      <td>city scrape</td>\n",
       "      <td>Rental unit in Brooklyn  · ★4.80 · 1 bedroom ·...</td>\n",
       "      <td>Enjoy your own private bedroom in our 2 bedroo...</td>\n",
       "      <td>Easy access to subway. Trendy and yet quiet.</td>\n",
       "      <td>https://a0.muscache.com/pictures/496cf3f1-7d0d...</td>\n",
       "      <td>47783628</td>\n",
       "      <td>https://www.airbnb.com/users/show/47783628</td>\n",
       "      <td>Tiffannie</td>\n",
       "      <td>2015-10-30</td>\n",
       "      <td>New York, NY</td>\n",
       "      <td>NaN</td>\n",
       "      <td>NaN</td>\n",
       "      <td>NaN</td>\n",
       "      <td>NaN</td>\n",
       "      <td>f</td>\n",
       "      <td>https://a0.muscache.com/im/pictures/user/5c087...</td>\n",
       "      <td>https://a0.muscache.com/im/pictures/user/5c087...</td>\n",
       "      <td>NaN</td>\n",
       "      <td>1.0</td>\n",
       "      <td>2.0</td>\n",
       "      <td>['email', 'phone']</td>\n",
       "      <td>t</td>\n",
       "      <td>f</td>\n",
       "      <td>Brooklyn , New York, United States</td>\n",
       "      <td>Bushwick</td>\n",
       "      <td>Brooklyn</td>\n",
       "      <td>40.68457</td>\n",
       "      <td>-73.91181</td>\n",
       "      <td>Private room in rental unit</td>\n",
       "      <td>Private room</td>\n",
       "      <td>1</td>\n",
       "      <td>1 shared bath</td>\n",
       "      <td>NaN</td>\n",
       "      <td>1.0</td>\n",
       "      <td>[\"Body soap\", \"Dryer\", \"Refrigerator\", \"Wifi\",...</td>\n",
       "      <td>$65.00</td>\n",
       "      <td>30</td>\n",
       "      <td>30</td>\n",
       "      <td>30</td>\n",
       "      <td>30</td>\n",
       "      <td>30</td>\n",
       "      <td>30</td>\n",
       "      <td>30.0</td>\n",
       "      <td>30.0</td>\n",
       "      <td>t</td>\n",
       "      <td>29</td>\n",
       "      <td>59</td>\n",
       "      <td>89</td>\n",
       "      <td>364</td>\n",
       "      <td>2023-10-02</td>\n",
       "      <td>5</td>\n",
       "      <td>0</td>\n",
       "      <td>0</td>\n",
       "      <td>2016-08-14</td>\n",
       "      <td>2018-04-30</td>\n",
       "      <td>4.8</td>\n",
       "      <td>4.6</td>\n",
       "      <td>5.0</td>\n",
       "      <td>5.0</td>\n",
       "      <td>5.0</td>\n",
       "      <td>4.8</td>\n",
       "      <td>5.0</td>\n",
       "      <td>NaN</td>\n",
       "      <td>f</td>\n",
       "      <td>1</td>\n",
       "      <td>0</td>\n",
       "      <td>1</td>\n",
       "      <td>0</td>\n",
       "      <td>0.06</td>\n",
       "    </tr>\n",
       "  </tbody>\n",
       "</table>\n",
       "</div>"
      ],
      "text/plain": [
       "        id                           listing_url       scrape_id last_scraped  \\\n",
       "0  9630344  https://www.airbnb.com/rooms/9630344  20231001204715   2023-10-02   \n",
       "\n",
       "        source                                               name  \\\n",
       "0  city scrape  Rental unit in Brooklyn  · ★4.80 · 1 bedroom ·...   \n",
       "\n",
       "                                         description  \\\n",
       "0  Enjoy your own private bedroom in our 2 bedroo...   \n",
       "\n",
       "                          neighborhood_overview  \\\n",
       "0  Easy access to subway. Trendy and yet quiet.   \n",
       "\n",
       "                                         picture_url   host_id  \\\n",
       "0  https://a0.muscache.com/pictures/496cf3f1-7d0d...  47783628   \n",
       "\n",
       "                                     host_url  host_name  host_since  \\\n",
       "0  https://www.airbnb.com/users/show/47783628  Tiffannie  2015-10-30   \n",
       "\n",
       "  host_location host_about host_response_time host_response_rate  \\\n",
       "0  New York, NY        NaN                NaN                NaN   \n",
       "\n",
       "  host_acceptance_rate host_is_superhost  \\\n",
       "0                  NaN                 f   \n",
       "\n",
       "                                  host_thumbnail_url  \\\n",
       "0  https://a0.muscache.com/im/pictures/user/5c087...   \n",
       "\n",
       "                                    host_picture_url host_neighbourhood  \\\n",
       "0  https://a0.muscache.com/im/pictures/user/5c087...                NaN   \n",
       "\n",
       "   host_listings_count  host_total_listings_count  host_verifications  \\\n",
       "0                  1.0                        2.0  ['email', 'phone']   \n",
       "\n",
       "  host_has_profile_pic host_identity_verified  \\\n",
       "0                    t                      f   \n",
       "\n",
       "                        neighbourhood neighbourhood_cleansed  \\\n",
       "0  Brooklyn , New York, United States               Bushwick   \n",
       "\n",
       "  neighbourhood_group_cleansed  latitude  longitude  \\\n",
       "0                     Brooklyn  40.68457  -73.91181   \n",
       "\n",
       "                 property_type     room_type  accommodates bathrooms_text  \\\n",
       "0  Private room in rental unit  Private room             1  1 shared bath   \n",
       "\n",
       "   bedrooms  beds                                          amenities   price  \\\n",
       "0       NaN   1.0  [\"Body soap\", \"Dryer\", \"Refrigerator\", \"Wifi\",...  $65.00   \n",
       "\n",
       "   minimum_nights  maximum_nights  minimum_minimum_nights  \\\n",
       "0              30              30                      30   \n",
       "\n",
       "   maximum_minimum_nights  minimum_maximum_nights  maximum_maximum_nights  \\\n",
       "0                      30                      30                      30   \n",
       "\n",
       "   minimum_nights_avg_ntm  maximum_nights_avg_ntm has_availability  \\\n",
       "0                    30.0                    30.0                t   \n",
       "\n",
       "   availability_30  availability_60  availability_90  availability_365  \\\n",
       "0               29               59               89               364   \n",
       "\n",
       "  calendar_last_scraped  number_of_reviews  number_of_reviews_ltm  \\\n",
       "0            2023-10-02                  5                      0   \n",
       "\n",
       "   number_of_reviews_l30d first_review last_review  review_scores_rating  \\\n",
       "0                       0   2016-08-14  2018-04-30                   4.8   \n",
       "\n",
       "   review_scores_accuracy  review_scores_cleanliness  review_scores_checkin  \\\n",
       "0                     4.6                        5.0                    5.0   \n",
       "\n",
       "   review_scores_communication  review_scores_location  review_scores_value  \\\n",
       "0                          5.0                     4.8                  5.0   \n",
       "\n",
       "  license instant_bookable  calculated_host_listings_count  \\\n",
       "0     NaN                f                               1   \n",
       "\n",
       "   calculated_host_listings_count_entire_homes  \\\n",
       "0                                            0   \n",
       "\n",
       "   calculated_host_listings_count_private_rooms  \\\n",
       "0                                             1   \n",
       "\n",
       "   calculated_host_listings_count_shared_rooms  reviews_per_month  \n",
       "0                                            0               0.06  "
      ]
     },
     "execution_count": 7,
     "metadata": {},
     "output_type": "execute_result"
    }
   ],
   "source": [
    "l_df23.head(1)"
   ]
  },
  {
   "cell_type": "code",
   "execution_count": 8,
   "id": "0764b768-8e7e-4a8e-816f-d4a38450c25d",
   "metadata": {
    "tags": []
   },
   "outputs": [
    {
     "data": {
      "text/html": [
       "<div>\n",
       "<style scoped>\n",
       "    .dataframe tbody tr th:only-of-type {\n",
       "        vertical-align: middle;\n",
       "    }\n",
       "\n",
       "    .dataframe tbody tr th {\n",
       "        vertical-align: top;\n",
       "    }\n",
       "\n",
       "    .dataframe thead th {\n",
       "        text-align: right;\n",
       "    }\n",
       "</style>\n",
       "<table border=\"1\" class=\"dataframe\">\n",
       "  <thead>\n",
       "    <tr style=\"text-align: right;\">\n",
       "      <th></th>\n",
       "      <th>id</th>\n",
       "      <th>host_id</th>\n",
       "      <th>host_listings_count</th>\n",
       "      <th>neighbourhood_cleansed</th>\n",
       "      <th>neighbourhood_group_cleansed</th>\n",
       "      <th>latitude</th>\n",
       "      <th>longitude</th>\n",
       "      <th>property_type</th>\n",
       "      <th>price</th>\n",
       "      <th>room_type</th>\n",
       "      <th>accommodates</th>\n",
       "      <th>amenities</th>\n",
       "      <th>minimum_nights</th>\n",
       "      <th>minimum_minimum_nights</th>\n",
       "      <th>review_scores_rating</th>\n",
       "      <th>review_scores_location</th>\n",
       "      <th>license</th>\n",
       "      <th>reviews_per_month</th>\n",
       "    </tr>\n",
       "  </thead>\n",
       "  <tbody>\n",
       "    <tr>\n",
       "      <th>0</th>\n",
       "      <td>9630344</td>\n",
       "      <td>47783628</td>\n",
       "      <td>1.0</td>\n",
       "      <td>Bushwick</td>\n",
       "      <td>Brooklyn</td>\n",
       "      <td>40.68457</td>\n",
       "      <td>-73.91181</td>\n",
       "      <td>Private room in rental unit</td>\n",
       "      <td>$65.00</td>\n",
       "      <td>Private room</td>\n",
       "      <td>1</td>\n",
       "      <td>[\"Body soap\", \"Dryer\", \"Refrigerator\", \"Wifi\",...</td>\n",
       "      <td>30</td>\n",
       "      <td>30</td>\n",
       "      <td>4.8</td>\n",
       "      <td>4.8</td>\n",
       "      <td>NaN</td>\n",
       "      <td>0.06</td>\n",
       "    </tr>\n",
       "  </tbody>\n",
       "</table>\n",
       "</div>"
      ],
      "text/plain": [
       "        id   host_id  host_listings_count neighbourhood_cleansed  \\\n",
       "0  9630344  47783628                  1.0               Bushwick   \n",
       "\n",
       "  neighbourhood_group_cleansed  latitude  longitude  \\\n",
       "0                     Brooklyn  40.68457  -73.91181   \n",
       "\n",
       "                 property_type   price     room_type  accommodates  \\\n",
       "0  Private room in rental unit  $65.00  Private room             1   \n",
       "\n",
       "                                           amenities  minimum_nights  \\\n",
       "0  [\"Body soap\", \"Dryer\", \"Refrigerator\", \"Wifi\",...              30   \n",
       "\n",
       "   minimum_minimum_nights  review_scores_rating  review_scores_location  \\\n",
       "0                      30                   4.8                     4.8   \n",
       "\n",
       "  license  reviews_per_month  \n",
       "0     NaN               0.06  "
      ]
     },
     "execution_count": 8,
     "metadata": {},
     "output_type": "execute_result"
    }
   ],
   "source": [
    "# Include only the columns we want\n",
    "l_df23 = l_df23[['id',\"host_id\",\"host_listings_count\",\"neighbourhood_cleansed\", \\\n",
    "            \"neighbourhood_group_cleansed\",\"latitude\",\"longitude\",\"property_type\",'price',\\\n",
    "            \"room_type\",\"accommodates\",\"amenities\",\"minimum_nights\",\"minimum_minimum_nights\", \\\n",
    "            \"review_scores_rating\", \"review_scores_location\",\"license\",\"reviews_per_month\"]]\n",
    "\n",
    "l_df23.head(1)"
   ]
  },
  {
   "cell_type": "code",
   "execution_count": 9,
   "id": "6fd4c52f-a612-4036-898f-4c6c9a609705",
   "metadata": {
    "tags": []
   },
   "outputs": [
    {
     "name": "stdout",
     "output_type": "stream",
     "text": [
      "<class 'pandas.core.frame.DataFrame'>\n",
      "RangeIndex: 38792 entries, 0 to 38791\n",
      "Data columns (total 18 columns):\n",
      " #   Column                        Non-Null Count  Dtype  \n",
      "---  ------                        --------------  -----  \n",
      " 0   id                            38792 non-null  int64  \n",
      " 1   host_id                       38792 non-null  int64  \n",
      " 2   host_listings_count           38787 non-null  float64\n",
      " 3   neighbourhood_cleansed        38792 non-null  object \n",
      " 4   neighbourhood_group_cleansed  38792 non-null  object \n",
      " 5   latitude                      38792 non-null  float64\n",
      " 6   longitude                     38792 non-null  float64\n",
      " 7   property_type                 38792 non-null  object \n",
      " 8   price                         38792 non-null  object \n",
      " 9   room_type                     38792 non-null  object \n",
      " 10  accommodates                  38792 non-null  int64  \n",
      " 11  amenities                     38792 non-null  object \n",
      " 12  minimum_nights                38792 non-null  int64  \n",
      " 13  minimum_minimum_nights        38792 non-null  int64  \n",
      " 14  review_scores_rating          28445 non-null  float64\n",
      " 15  review_scores_location        28023 non-null  float64\n",
      " 16  license                       2939 non-null   object \n",
      " 17  reviews_per_month             28440 non-null  float64\n",
      "dtypes: float64(6), int64(5), object(7)\n",
      "memory usage: 5.3+ MB\n"
     ]
    }
   ],
   "source": [
    "l_df23.info()"
   ]
  },
  {
   "cell_type": "code",
   "execution_count": 10,
   "id": "3f705922-7f79-4e9e-b141-055b62eca0f4",
   "metadata": {
    "tags": []
   },
   "outputs": [],
   "source": [
    "# export file\n",
    "filepath = Path('../listings_oct_2023_clean.csv')  \n",
    "l_df23.to_csv(filepath)"
   ]
  },
  {
   "cell_type": "code",
   "execution_count": 11,
   "id": "10a76f2f-633a-42b4-b522-68fda1f6d969",
   "metadata": {
    "tags": []
   },
   "outputs": [],
   "source": [
    "# import file for listings 2022\n",
    "listings_big_df22 = pd.read_csv(\"../airbnb_listings_oct_4_2022.csv.gz\", low_memory=False)"
   ]
  },
  {
   "cell_type": "code",
   "execution_count": 12,
   "id": "7a1c7751-b575-4007-a97a-be66382c3fa2",
   "metadata": {
    "tags": []
   },
   "outputs": [],
   "source": [
    "l_df22 = listings_big_df22.copy()"
   ]
  },
  {
   "cell_type": "code",
   "execution_count": 13,
   "id": "ae2dfe81-c136-45c3-9e1c-63156f0c1610",
   "metadata": {
    "tags": []
   },
   "outputs": [
    {
     "data": {
      "text/plain": [
       "73"
      ]
     },
     "execution_count": 13,
     "metadata": {},
     "output_type": "execute_result"
    }
   ],
   "source": [
    "# Drop null columns\n",
    "l_df22.drop(labels= [\"bathrooms\",\"calendar_updated\"], axis=1, inplace=True)\n",
    "len(l_df22.columns)"
   ]
  },
  {
   "cell_type": "code",
   "execution_count": 14,
   "id": "a16bd9c4-a2df-4eb6-9952-1d1a8aa3f09a",
   "metadata": {
    "tags": []
   },
   "outputs": [
    {
     "data": {
      "text/html": [
       "<div>\n",
       "<style scoped>\n",
       "    .dataframe tbody tr th:only-of-type {\n",
       "        vertical-align: middle;\n",
       "    }\n",
       "\n",
       "    .dataframe tbody tr th {\n",
       "        vertical-align: top;\n",
       "    }\n",
       "\n",
       "    .dataframe thead th {\n",
       "        text-align: right;\n",
       "    }\n",
       "</style>\n",
       "<table border=\"1\" class=\"dataframe\">\n",
       "  <thead>\n",
       "    <tr style=\"text-align: right;\">\n",
       "      <th></th>\n",
       "      <th>id</th>\n",
       "      <th>host_id</th>\n",
       "      <th>host_listings_count</th>\n",
       "      <th>neighbourhood_cleansed</th>\n",
       "      <th>neighbourhood_group_cleansed</th>\n",
       "      <th>latitude</th>\n",
       "      <th>longitude</th>\n",
       "      <th>property_type</th>\n",
       "      <th>price</th>\n",
       "      <th>room_type</th>\n",
       "      <th>accommodates</th>\n",
       "      <th>amenities</th>\n",
       "      <th>minimum_nights</th>\n",
       "      <th>minimum_minimum_nights</th>\n",
       "      <th>review_scores_rating</th>\n",
       "      <th>review_scores_location</th>\n",
       "      <th>license</th>\n",
       "      <th>reviews_per_month</th>\n",
       "    </tr>\n",
       "  </thead>\n",
       "  <tbody>\n",
       "    <tr>\n",
       "      <th>0</th>\n",
       "      <td>2539</td>\n",
       "      <td>2787</td>\n",
       "      <td>9.0</td>\n",
       "      <td>Kensington</td>\n",
       "      <td>Brooklyn</td>\n",
       "      <td>40.64529</td>\n",
       "      <td>-73.97238</td>\n",
       "      <td>Private room in rental unit</td>\n",
       "      <td>$213.00</td>\n",
       "      <td>Private room</td>\n",
       "      <td>2</td>\n",
       "      <td>[\"Essentials\", \"Wifi\", \"Heating\", \"Hangers\", \"...</td>\n",
       "      <td>30</td>\n",
       "      <td>30.0</td>\n",
       "      <td>4.89</td>\n",
       "      <td>4.75</td>\n",
       "      <td>NaN</td>\n",
       "      <td>0.11</td>\n",
       "    </tr>\n",
       "  </tbody>\n",
       "</table>\n",
       "</div>"
      ],
      "text/plain": [
       "     id  host_id  host_listings_count neighbourhood_cleansed  \\\n",
       "0  2539     2787                  9.0             Kensington   \n",
       "\n",
       "  neighbourhood_group_cleansed  latitude  longitude  \\\n",
       "0                     Brooklyn  40.64529  -73.97238   \n",
       "\n",
       "                 property_type    price     room_type  accommodates  \\\n",
       "0  Private room in rental unit  $213.00  Private room             2   \n",
       "\n",
       "                                           amenities  minimum_nights  \\\n",
       "0  [\"Essentials\", \"Wifi\", \"Heating\", \"Hangers\", \"...              30   \n",
       "\n",
       "   minimum_minimum_nights  review_scores_rating  review_scores_location  \\\n",
       "0                    30.0                  4.89                    4.75   \n",
       "\n",
       "  license  reviews_per_month  \n",
       "0     NaN               0.11  "
      ]
     },
     "execution_count": 14,
     "metadata": {},
     "output_type": "execute_result"
    }
   ],
   "source": [
    "# Include only the columns we want\n",
    "l_df22 = l_df22[['id',\"host_id\",\"host_listings_count\",\"neighbourhood_cleansed\", \\\n",
    "            \"neighbourhood_group_cleansed\",\"latitude\",\"longitude\",\"property_type\",'price',\\\n",
    "            \"room_type\",\"accommodates\",\"amenities\",\"minimum_nights\",\"minimum_minimum_nights\", \\\n",
    "            \"review_scores_rating\", \"review_scores_location\",\"license\",\"reviews_per_month\"]]\n",
    "\n",
    "l_df22.head(1)"
   ]
  },
  {
   "cell_type": "code",
   "execution_count": 15,
   "id": "cc6f3187-ecf1-47f0-99f1-3cb4eb6622d3",
   "metadata": {
    "tags": []
   },
   "outputs": [
    {
     "name": "stdout",
     "output_type": "stream",
     "text": [
      "<class 'pandas.core.frame.DataFrame'>\n",
      "RangeIndex: 40545 entries, 0 to 40544\n",
      "Data columns (total 18 columns):\n",
      " #   Column                        Non-Null Count  Dtype  \n",
      "---  ------                        --------------  -----  \n",
      " 0   id                            40545 non-null  int64  \n",
      " 1   host_id                       40545 non-null  int64  \n",
      " 2   host_listings_count           40522 non-null  float64\n",
      " 3   neighbourhood_cleansed        40545 non-null  object \n",
      " 4   neighbourhood_group_cleansed  40545 non-null  object \n",
      " 5   latitude                      40545 non-null  float64\n",
      " 6   longitude                     40545 non-null  float64\n",
      " 7   property_type                 40545 non-null  object \n",
      " 8   price                         40545 non-null  object \n",
      " 9   room_type                     40545 non-null  object \n",
      " 10  accommodates                  40545 non-null  int64  \n",
      " 11  amenities                     40545 non-null  object \n",
      " 12  minimum_nights                40545 non-null  int64  \n",
      " 13  minimum_minimum_nights        40531 non-null  float64\n",
      " 14  review_scores_rating          32155 non-null  float64\n",
      " 15  review_scores_location        31689 non-null  float64\n",
      " 16  license                       5 non-null      object \n",
      " 17  reviews_per_month             32155 non-null  float64\n",
      "dtypes: float64(7), int64(4), object(7)\n",
      "memory usage: 5.6+ MB\n"
     ]
    }
   ],
   "source": [
    "l_df22.info()"
   ]
  },
  {
   "cell_type": "code",
   "execution_count": 16,
   "id": "dc76f9ba-f6ce-46ef-ab48-6b7d5393decf",
   "metadata": {
    "tags": []
   },
   "outputs": [],
   "source": [
    "# export file\n",
    "filepath = Path('../listings_oct_2022_clean.csv')  \n",
    "l_df22.to_csv(filepath)"
   ]
  },
  {
   "cell_type": "markdown",
   "id": "792a688f-be3d-4fa5-9553-9bc6cdecf547",
   "metadata": {},
   "source": [
    "# Analysis"
   ]
  },
  {
   "cell_type": "code",
   "execution_count": 17,
   "id": "829676d2-f4d8-4a15-b663-9d64144e8959",
   "metadata": {
    "tags": []
   },
   "outputs": [],
   "source": [
    "# Load cleaned listings csv's for Oct 2022 and 2023\n",
    "# l_df23 = pd.read_csv(\"../listings_oct_2023_clean.csv\")\n",
    "# l_df22 = pd.read_csv(\"../listings_oct_2022_clean.csv\")"
   ]
  },
  {
   "cell_type": "code",
   "execution_count": 18,
   "id": "a638a478-c61e-4261-9a7d-f3af20248f25",
   "metadata": {
    "tags": []
   },
   "outputs": [
    {
     "data": {
      "text/plain": [
       "Index(['id', 'host_id', 'host_listings_count', 'neighbourhood_cleansed',\n",
       "       'neighbourhood_group_cleansed', 'latitude', 'longitude',\n",
       "       'property_type', 'price', 'room_type', 'accommodates', 'amenities',\n",
       "       'minimum_nights', 'minimum_minimum_nights', 'review_scores_rating',\n",
       "       'review_scores_location', 'license', 'reviews_per_month'],\n",
       "      dtype='object')"
      ]
     },
     "execution_count": 18,
     "metadata": {},
     "output_type": "execute_result"
    }
   ],
   "source": [
    "l_df23.columns"
   ]
  },
  {
   "cell_type": "code",
   "execution_count": 20,
   "id": "beb7351b-2f0d-4b84-96ff-05fc8ed1b274",
   "metadata": {
    "tags": []
   },
   "outputs": [
    {
     "data": {
      "text/html": [
       "<div>\n",
       "<style scoped>\n",
       "    .dataframe tbody tr th:only-of-type {\n",
       "        vertical-align: middle;\n",
       "    }\n",
       "\n",
       "    .dataframe tbody tr th {\n",
       "        vertical-align: top;\n",
       "    }\n",
       "\n",
       "    .dataframe thead th {\n",
       "        text-align: right;\n",
       "    }\n",
       "</style>\n",
       "<table border=\"1\" class=\"dataframe\">\n",
       "  <thead>\n",
       "    <tr style=\"text-align: right;\">\n",
       "      <th></th>\n",
       "      <th>Minimum Nights</th>\n",
       "      <th>Before Ban - 2022</th>\n",
       "      <th>After Ban - 2023</th>\n",
       "    </tr>\n",
       "  </thead>\n",
       "  <tbody>\n",
       "    <tr>\n",
       "      <th>0</th>\n",
       "      <td>1-29</td>\n",
       "      <td>21314</td>\n",
       "      <td>3227</td>\n",
       "    </tr>\n",
       "    <tr>\n",
       "      <th>1</th>\n",
       "      <td>30</td>\n",
       "      <td>17256</td>\n",
       "      <td>33273</td>\n",
       "    </tr>\n",
       "    <tr>\n",
       "      <th>2</th>\n",
       "      <td>30+</td>\n",
       "      <td>1975</td>\n",
       "      <td>2292</td>\n",
       "    </tr>\n",
       "  </tbody>\n",
       "</table>\n",
       "</div>"
      ],
      "text/plain": [
       "  Minimum Nights Before Ban - 2022 After Ban - 2023\n",
       "0           1-29             21314             3227\n",
       "1             30             17256            33273\n",
       "2            30+              1975             2292"
      ]
     },
     "execution_count": 20,
     "metadata": {},
     "output_type": "execute_result"
    }
   ],
   "source": [
    "# Build Dataframe to analyze minimum night listings\n",
    "# Create bins\n",
    "bins = [\"1-29\",\"30\",\"30+\"]\n",
    "dfs = [l_df22, l_df23]\n",
    "year = [\"Before Ban - 2022\", \"After Ban - 2023\"]\n",
    "min_nights_df = pd.DataFrame()\n",
    "\n",
    "min_nights_df[\"Minimum Nights\"] = bins \n",
    "min_nights_df[\"Before Ban - 2022\"] = \"\"\n",
    "min_nights_df[\"After Ban - 2023\"] = \"\"\n",
    "        \n",
    "for i in range(len(dfs)):\n",
    "    #min_nights_df[year[i]][0] = dfs[i][\"minimum_nights\"][dfs[i][\"minimum_nights\"]==0].count()\n",
    "    min_nights_df[year[i]][0] = dfs[i][\"minimum_nights\"][(dfs[i][\"minimum_nights\"]>=1) & (dfs[i][\"minimum_nights\"]<30)].count()\n",
    "    min_nights_df[year[i]][1] = dfs[i][\"minimum_nights\"][dfs[i][\"minimum_nights\"]==30].count()\n",
    "    min_nights_df[year[i]][2] = dfs[i][\"minimum_nights\"][dfs[i][\"minimum_nights\"]>30].count()\n",
    "\n",
    "# Display Table\n",
    "min_nights_df.head()"
   ]
  },
  {
   "cell_type": "code",
   "execution_count": 23,
   "id": "43921212-01c1-43f1-a657-0bc56e4897d5",
   "metadata": {
    "tags": []
   },
   "outputs": [
    {
     "name": "stdout",
     "output_type": "stream",
     "text": [
      "<class 'pandas.core.frame.DataFrame'>\n",
      "RangeIndex: 3 entries, 0 to 2\n",
      "Data columns (total 3 columns):\n",
      " #   Column             Non-Null Count  Dtype \n",
      "---  ------             --------------  ----- \n",
      " 0   Minimum Nights     3 non-null      object\n",
      " 1   Before Ban - 2022  3 non-null      int32 \n",
      " 2   After Ban - 2023   3 non-null      int32 \n",
      "dtypes: int32(2), object(1)\n",
      "memory usage: 180.0+ bytes\n"
     ]
    }
   ],
   "source": [
    "# Format Column Datatypes\n",
    "min_nights_df = min_nights_df.astype({\"Before Ban - 2022\": int, \"After Ban - 2023\": int})\n",
    "\n",
    "min_nights_df.info()"
   ]
  },
  {
   "cell_type": "code",
   "execution_count": 24,
   "id": "11d86549-1e31-4803-9574-2dd0b34cf057",
   "metadata": {
    "tags": []
   },
   "outputs": [
    {
     "data": {
      "image/png": "[encoded data removed]",
      "text/plain": [
       "<Figure size 640x520 with 1 Axes>"
      ]
     },
     "metadata": {},
     "output_type": "display_data"
    }
   ],
   "source": [
    "# Vertical Bar Chart\n",
    "min_nights_df.plot(x=\"Minimum Nights\", y=[\"Before Ban - 2022\",\"After Ban - 2023\"], kind=\"bar\", title=\"Listings by Minimum Nights\", alpha=.75,\n",
    "                  color=['tab:blue','tab:orange'], figsize=(6.4,5.2))\n",
    "plt.ylabel(\"Count\")\n",
    "plt.xticks(rotation=\"horizontal\")\n",
    "\n",
    "plt.tight_layout()\n",
    "\n",
    "plt.savefig(\"min_night_listings.png\")\n",
    "\n",
    "plt.show()"
   ]
  },
  {
   "cell_type": "code",
   "execution_count": 25,
   "id": "4e7de134-a027-432e-867f-dcfc8a5e3a48",
   "metadata": {
    "tags": []
   },
   "outputs": [],
   "source": [
    "# Create dataframes for boxplots\n",
    "x1 = l_df22[\"minimum_nights\"][l_df22[\"minimum_nights\"]<=100]\n",
    "x2 = l_df23[\"minimum_nights\"][l_df23[\"minimum_nights\"]<=100]\n"
   ]
  },
  {
   "cell_type": "code",
   "execution_count": 26,
   "id": "6f0b2b73-f4a1-4eab-b835-fb58aff38f21",
   "metadata": {
    "tags": []
   },
   "outputs": [
    {
     "data": {
      "image/png": "[encoded data removed]",
      "text/plain": [
       "<Figure size 640x480 with 1 Axes>"
      ]
     },
     "metadata": {},
     "output_type": "display_data"
    }
   ],
   "source": [
    "# Boxplots of minimum nights\n",
    "ax = plt.boxplot([x1, x2], showmeans=True)\n",
    "plt.xticks(ticks=[1, 2], labels= [\"Before Ban - 2022\", \"After Ban - 2023\"])\n",
    "plt.title(\"Listings by Minimum Nights\")\n",
    "plt.setp(ax['fliers'], markersize=.5, alpha=.5)\n",
    "\n",
    "plt.show()"
   ]
  },
  {
   "cell_type": "code",
   "execution_count": 28,
   "id": "f2a4bda8-271f-461c-b2aa-1fc2688a2a01",
   "metadata": {
    "tags": []
   },
   "outputs": [
    {
     "data": {
      "text/html": [
       "<div>\n",
       "<style scoped>\n",
       "    .dataframe tbody tr th:only-of-type {\n",
       "        vertical-align: middle;\n",
       "    }\n",
       "\n",
       "    .dataframe tbody tr th {\n",
       "        vertical-align: top;\n",
       "    }\n",
       "\n",
       "    .dataframe thead th {\n",
       "        text-align: right;\n",
       "    }\n",
       "</style>\n",
       "<table border=\"1\" class=\"dataframe\">\n",
       "  <thead>\n",
       "    <tr style=\"text-align: right;\">\n",
       "      <th></th>\n",
       "      <th>2022</th>\n",
       "      <th>2023</th>\n",
       "    </tr>\n",
       "  </thead>\n",
       "  <tbody>\n",
       "    <tr>\n",
       "      <th>count</th>\n",
       "      <td>238.000000</td>\n",
       "      <td>117.000000</td>\n",
       "    </tr>\n",
       "    <tr>\n",
       "      <th>mean</th>\n",
       "      <td>4.722653</td>\n",
       "      <td>4.776380</td>\n",
       "    </tr>\n",
       "    <tr>\n",
       "      <th>std</th>\n",
       "      <td>0.144242</td>\n",
       "      <td>0.194615</td>\n",
       "    </tr>\n",
       "    <tr>\n",
       "      <th>min</th>\n",
       "      <td>3.660000</td>\n",
       "      <td>3.791667</td>\n",
       "    </tr>\n",
       "    <tr>\n",
       "      <th>25%</th>\n",
       "      <td>4.667179</td>\n",
       "      <td>4.699286</td>\n",
       "    </tr>\n",
       "    <tr>\n",
       "      <th>50%</th>\n",
       "      <td>4.737083</td>\n",
       "      <td>4.820500</td>\n",
       "    </tr>\n",
       "    <tr>\n",
       "      <th>75%</th>\n",
       "      <td>4.810750</td>\n",
       "      <td>4.915000</td>\n",
       "    </tr>\n",
       "    <tr>\n",
       "      <th>max</th>\n",
       "      <td>5.000000</td>\n",
       "      <td>5.000000</td>\n",
       "    </tr>\n",
       "  </tbody>\n",
       "</table>\n",
       "</div>"
      ],
      "text/plain": [
       "             2022        2023\n",
       "count  238.000000  117.000000\n",
       "mean     4.722653    4.776380\n",
       "std      0.144242    0.194615\n",
       "min      3.660000    3.791667\n",
       "25%      4.667179    4.699286\n",
       "50%      4.737083    4.820500\n",
       "75%      4.810750    4.915000\n",
       "max      5.000000    5.000000"
      ]
     },
     "metadata": {},
     "output_type": "display_data"
    }
   ],
   "source": [
    "# Group the neighbourhoods and find the average review rating for short term rentals\n",
    "ratings_short_term_df22 = l_df22[[\"neighbourhood_cleansed\",\"review_scores_rating\"]][l_df22[\"minimum_nights\"]<30]\n",
    "ratings_short_term_df23 = l_df23[[\"neighbourhood_cleansed\",\"review_scores_rating\"]][l_df23[\"minimum_nights\"]<30]\n",
    "\n",
    "rst_df22 = ratings_short_term_df22\n",
    "rst_df23 = ratings_short_term_df23\n",
    "\n",
    "# Find average and group by neighborhood group\n",
    "rst_avg_df22 = rst_df22.groupby(\"neighbourhood_cleansed\").mean()\n",
    "rst_avg_df23 = rst_df23.groupby(\"neighbourhood_cleansed\").mean()\n",
    "\n",
    "# Rename the columns\n",
    "rst_avg_df22.columns = [\"2022\"]\n",
    "rst_avg_df23.columns = [\"2023\"]\n",
    "\n",
    "# Merge dataframes\n",
    "rst_avg_df_n = rst_avg_df22\n",
    "# Add 2023 column\n",
    "rst_avg_df_n[\"2023\"] = rst_avg_df23\n",
    "\n",
    "display(rst_avg_df_n.describe())"
   ]
  },
  {
   "cell_type": "code",
   "execution_count": 29,
   "id": "95a81b63-7d44-4782-88d0-8123049bab06",
   "metadata": {
    "tags": []
   },
   "outputs": [
    {
     "name": "stdout",
     "output_type": "stream",
     "text": [
      "There are 121 neighborhoods that no longer have any short term airbnb listings!!!\n"
     ]
    },
    {
     "name": "stderr",
     "output_type": "stream",
     "text": [
      "C:\\Users\\CherKare\\AppData\\Local\\Temp\\ipykernel_8400\\3052518698.py:19: UserWarning: The figure layout has changed to tight\n",
      "  plt.tight_layout()\n"
     ]
    },
    {
     "data": {
      "image/png": "[encoded data removed]",
      "text/plain": [
       "<Figure size 700x150 with 1 Axes>"
      ]
     },
     "metadata": {},
     "output_type": "display_data"
    }
   ],
   "source": [
    "# Plot neighborhood count pre/post ban for short term rentals\n",
    "st_listing_count_22 = rst_avg_df_n[\"2022\"].count()\n",
    "st_listing_count_23 = rst_avg_df_n[\"2023\"].count()\n",
    "short_term_listing_count = [st_listing_count_23, st_listing_count_22]\n",
    "x = [\"After Ban\", \"Before Ban\"]\n",
    "\n",
    "print(\"There are 121 neighborhoods that no longer have any short term airbnb listings!!!\")\n",
    "plt.style.use('ggplot')\n",
    "plt.figure(figsize=[7,1.5], layout='constrained', edgecolor='r')\n",
    "plt.barh(x, short_term_listing_count, height=.6, align=\"center\", color=['tab:orange','tab:blue'], \n",
    "         alpha=.75, )\n",
    "plt.title(\"121 Fewer Neighborhoods Have Short Term\\n Airbnb Listings!\")\n",
    "# plt.xlabel(\"Count\")\n",
    "\n",
    "for index, value in enumerate(short_term_listing_count):\n",
    "    plt.text(value, index,\n",
    "             str(value), horizontalalignment='right', verticalalignment='center')\n",
    "\n",
    "plt.tight_layout()\n",
    "    \n",
    "plt.savefig(\"neighborhoods_st_listings.png\")    \n",
    "    \n",
    "plt.show()\n"
   ]
  },
  {
   "cell_type": "code",
   "execution_count": 32,
   "id": "4214641d-ddfb-4d1f-99f0-3ed2adbf5424",
   "metadata": {
    "tags": []
   },
   "outputs": [
    {
     "data": {
      "text/plain": [
       "license    4\n",
       "dtype: int64"
      ]
     },
     "metadata": {},
     "output_type": "display_data"
    },
    {
     "data": {
      "text/plain": [
       "license    2785\n",
       "dtype: int64"
      ]
     },
     "metadata": {},
     "output_type": "display_data"
    }
   ],
   "source": [
    "# Licenses\n",
    "licenses_22 = l_df22[[\"license\"]][l_df22[\"minimum_nights\"]<30].count()\n",
    "licenses_23 = l_df23[[\"license\"]][l_df23[\"minimum_nights\"]<30].count()\n",
    "total_short_term_listings_23 = l_df23[\"license\"].count()\n",
    "\n",
    "display(licenses_22)\n",
    "display(licenses_23)"
   ]
  },
  {
   "cell_type": "code",
   "execution_count": 33,
   "id": "056b337a-1b84-4f28-aeb4-6b446761f350",
   "metadata": {
    "tags": []
   },
   "outputs": [
    {
     "data": {
      "text/plain": [
       "4"
      ]
     },
     "execution_count": 33,
     "metadata": {},
     "output_type": "execute_result"
    }
   ],
   "source": [
    "licenses_22[0]"
   ]
  },
  {
   "cell_type": "code",
   "execution_count": 36,
   "id": "308be7fa-187a-4790-9f7a-c3cc9cc727a8",
   "metadata": {
    "tags": []
   },
   "outputs": [
    {
     "data": {
      "image/png": "[encoded data removed]",
      "text/plain": [
       "<Figure size 750x200 with 1 Axes>"
      ]
     },
     "metadata": {},
     "output_type": "display_data"
    }
   ],
   "source": [
    "plt.rcParams[\"figure.figsize\"] = [7.5, 2]\n",
    "# plt.rcParams[\"figure.autolayout\"] = True\n",
    "\n",
    "ban = [\"After_Ban\"]\n",
    "licenses_issued = [licenses_23[0]]\n",
    "total_short_term = [total_short_term_listings_23-licenses_23[0]]\n",
    "\n",
    "b1 = plt.barh(ban, licenses_issued, color=\"tab:blue\", alpha=.75)\n",
    "\n",
    "b2 = plt.barh(ban, total_short_term, left=licenses_issued, color=\"tab:orange\", alpha=.75)\n",
    "\n",
    "plt.legend([b1, b2], [\"Licensed\", \"Not Licensed\"], title=\"Short Term Listings\", loc=\"center right\")\n",
    "\n",
    "plt.xlim((0, 4000))\n",
    "plt.title(\"95% of Short Term Rentals are Licensed\")\n",
    "\n",
    "plt.savefig(\"ban_compliance.png\")\n",
    "\n",
    "plt.show()"
   ]
  },
  {
   "cell_type": "code",
   "execution_count": 38,
   "id": "c9e1fcc8-6ba2-4f85-a9ba-ee3b8ce191a3",
   "metadata": {
    "tags": []
   },
   "outputs": [
    {
     "data": {
      "image/png": "[encoded data removed]",
      "text/plain": [
       "<Figure size 700x700 with 1 Axes>"
      ]
     },
     "metadata": {},
     "output_type": "display_data"
    }
   ],
   "source": [
    "# Pie chart for Licenses\n",
    "exempt = licenses_23[0]\n",
    "non_exempt = total_short_term_listings_23 - licenses_23[0]\n",
    "licenses_df = pd.DataFrame({\"compliance\": [\"licensed\", \"not licensed\"], \"Compliance\": [exempt, non_exempt]})\n",
    "licenses_df = licenses_df.set_index(\"compliance\")\n",
    "\n",
    "\n",
    "# licenses_df\n",
    "explode = [0, 0.05]\n",
    "\n",
    "plt.style.use('ggplot')\n",
    "ax=licenses_df.plot(kind='pie', y=\"Compliance\", sharey=False, startangle=279, radius=.95, explode=explode, autopct = '%1.f%%', figsize=(7,7),\n",
    "                          legend=True, fontsize=14, ylabel=\"\", labeldistance=None, pctdistance=.9, colors=(\"tab:blue\",\"tab:orange\"), wedgeprops={'alpha':0.75})\n",
    "# ax.set_facecolor('lightgrey')\n",
    "ax.legend(loc=\"lower right\", fontsize=14)\n",
    "ax.set_title(\"Compliance with the NYC Ban\", fontsize=18)\n",
    "\n",
    "plt.tight_layout()\n",
    "\n",
    "plt.savefig(\"ban_compliance2.png\")\n",
    "\n",
    "plt.show()"
   ]
  },
  {
   "cell_type": "code",
   "execution_count": null,
   "id": "f8d0c012-3947-4fb7-b987-35675f0dcb20",
   "metadata": {},
   "outputs": [],
   "source": []
  }
 ],
 "metadata": {
  "kernelspec": {
   "display_name": "Python 3 (ipykernel)",
   "language": "python",
   "name": "python3"
  },
  "language_info": {
   "codemirror_mode": {
    "name": "ipython",
    "version": 3
   },
   "file_extension": ".py",
   "mimetype": "text/x-python",
   "name": "python",
   "nbconvert_exporter": "python",
   "pygments_lexer": "ipython3",
   "version": "3.11.4"
  }
 },
 "nbformat": 4,
 "nbformat_minor": 5
}
