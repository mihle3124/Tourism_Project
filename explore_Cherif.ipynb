{
 "cells": [
  {
   "cell_type": "code",
   "execution_count": 1,
   "id": "5e9613f1-b530-45ae-8558-8d374855ec5a",
   "metadata": {
    "tags": []
   },
   "outputs": [],
   "source": [
    "# Dependencies and Setup\n",
    "import matplotlib.pyplot as plt\n",
    "import pandas as pd\n",
    "import numpy as np\n",
    "import csv\n",
    "from IPython.display import display\n",
    "pd.options.display.max_columns = None\n"
   ]
  },
  {
   "cell_type": "code",
   "execution_count": 2,
   "id": "bab7bfcd-053d-4c8b-800b-369026ad2267",
   "metadata": {
    "tags": []
   },
   "outputs": [],
   "source": [
    "listings_10_22_df = pd.read_csv(\"../airbnb_listings_sum_oct_4_2022.csv\")\n",
    "listings_10_23_df = pd.read_csv(\"../airbnb_listings_sum_oct_1_2023.csv\")\n",
    "listings_open_df = pd.read_csv(\"../Airbnb_Open_Data_26cols.csv\", low_memory=False)\n",
    "\n",
    "\n",
    "df22 = listings_10_22_df.copy()\n",
    "df23 = listings_10_23_df.copy()\n",
    "df_open = listings_open_df.copy()"
   ]
  },
  {
   "cell_type": "code",
   "execution_count": 3,
   "id": "000db6e1-097d-437c-910a-d1f5a3fed5b0",
   "metadata": {
    "tags": []
   },
   "outputs": [],
   "source": [
    "reviews_10_23_df = pd.read_csv(\"../airbnb_reviews_oct_1_2023.csv\")"
   ]
  },
  {
   "cell_type": "code",
   "execution_count": 4,
   "id": "b30f9792-9902-48e9-a5d9-2238d8da52bb",
   "metadata": {
    "tags": []
   },
   "outputs": [
    {
     "data": {
      "text/plain": [
       "'2023-10-01'"
      ]
     },
     "metadata": {},
     "output_type": "display_data"
    },
    {
     "data": {
      "text/plain": [
       "'2009-05-25'"
      ]
     },
     "metadata": {},
     "output_type": "display_data"
    },
    {
     "data": {
      "text/plain": [
       "4851"
      ]
     },
     "metadata": {},
     "output_type": "display_data"
    }
   ],
   "source": [
    "display(reviews_10_23_df[\"date\"].max())\n",
    "display(reviews_10_23_df[\"date\"].min())\n",
    "display(reviews_10_23_df[\"date\"].nunique())"
   ]
  },
  {
   "cell_type": "code",
   "execution_count": 5,
   "id": "e80f0eb6-61e0-4c89-8801-c15e909965a6",
   "metadata": {
    "tags": []
   },
   "outputs": [
    {
     "data": {
      "text/html": [
       "<div>\n",
       "<style scoped>\n",
       "    .dataframe tbody tr th:only-of-type {\n",
       "        vertical-align: middle;\n",
       "    }\n",
       "\n",
       "    .dataframe tbody tr th {\n",
       "        vertical-align: top;\n",
       "    }\n",
       "\n",
       "    .dataframe thead th {\n",
       "        text-align: right;\n",
       "    }\n",
       "</style>\n",
       "<table border=\"1\" class=\"dataframe\">\n",
       "  <thead>\n",
       "    <tr style=\"text-align: right;\">\n",
       "      <th></th>\n",
       "      <th>listing_id</th>\n",
       "    </tr>\n",
       "  </thead>\n",
       "  <tbody>\n",
       "    <tr>\n",
       "      <th>count</th>\n",
       "      <td>9.836210e+05</td>\n",
       "    </tr>\n",
       "    <tr>\n",
       "      <th>mean</th>\n",
       "      <td>9.722995e+16</td>\n",
       "    </tr>\n",
       "    <tr>\n",
       "      <th>std</th>\n",
       "      <td>2.454575e+17</td>\n",
       "    </tr>\n",
       "    <tr>\n",
       "      <th>min</th>\n",
       "      <td>2.595000e+03</td>\n",
       "    </tr>\n",
       "    <tr>\n",
       "      <th>25%</th>\n",
       "      <td>9.253827e+06</td>\n",
       "    </tr>\n",
       "    <tr>\n",
       "      <th>50%</th>\n",
       "      <td>2.536974e+07</td>\n",
       "    </tr>\n",
       "    <tr>\n",
       "      <th>75%</th>\n",
       "      <td>4.836571e+07</td>\n",
       "    </tr>\n",
       "    <tr>\n",
       "      <th>max</th>\n",
       "      <td>9.898591e+17</td>\n",
       "    </tr>\n",
       "  </tbody>\n",
       "</table>\n",
       "</div>"
      ],
      "text/plain": [
       "         listing_id\n",
       "count  9.836210e+05\n",
       "mean   9.722995e+16\n",
       "std    2.454575e+17\n",
       "min    2.595000e+03\n",
       "25%    9.253827e+06\n",
       "50%    2.536974e+07\n",
       "75%    4.836571e+07\n",
       "max    9.898591e+17"
      ]
     },
     "execution_count": 5,
     "metadata": {},
     "output_type": "execute_result"
    }
   ],
   "source": [
    "reviews_10_23_df.describe()"
   ]
  },
  {
   "cell_type": "code",
   "execution_count": 6,
   "id": "eb6c2058-ac8f-426d-b2df-8e91e8f9b537",
   "metadata": {
    "tags": []
   },
   "outputs": [],
   "source": [
    "listings_calendar_df = pd.read_csv(\"../airbnb_calendar_oct_1_2023.csv.gz\")\n",
    "\n"
   ]
  },
  {
   "cell_type": "code",
   "execution_count": 7,
   "id": "bbd649da-3805-4baa-a12e-5bfbac4c9c4a",
   "metadata": {
    "tags": []
   },
   "outputs": [
    {
     "data": {
      "text/plain": [
       "14159104"
      ]
     },
     "execution_count": 7,
     "metadata": {},
     "output_type": "execute_result"
    }
   ],
   "source": [
    "len(listings_calendar_df)"
   ]
  },
  {
   "cell_type": "code",
   "execution_count": 8,
   "id": "9ecdb4d3-b7d7-4147-b785-aeac6fe910f7",
   "metadata": {
    "tags": []
   },
   "outputs": [
    {
     "data": {
      "text/plain": [
       "7"
      ]
     },
     "metadata": {},
     "output_type": "display_data"
    },
    {
     "data": {
      "text/plain": [
       "Index(['listing_id', 'date', 'available', 'price', 'adjusted_price',\n",
       "       'minimum_nights', 'maximum_nights'],\n",
       "      dtype='object')"
      ]
     },
     "execution_count": 8,
     "metadata": {},
     "output_type": "execute_result"
    }
   ],
   "source": [
    "display(len(listings_calendar_df.columns))\n",
    "listings_calendar_df.columns"
   ]
  },
  {
   "cell_type": "code",
   "execution_count": 9,
   "id": "50a27f1f-8a74-4e90-9cf5-d74d1c609cab",
   "metadata": {
    "tags": []
   },
   "outputs": [
    {
     "data": {
      "text/plain": [
       "listing_id        14\n",
       "date              14\n",
       "available         14\n",
       "price             14\n",
       "adjusted_price    14\n",
       "minimum_nights    14\n",
       "maximum_nights    14\n",
       "dtype: int64"
      ]
     },
     "execution_count": 9,
     "metadata": {},
     "output_type": "execute_result"
    }
   ],
   "source": [
    "listings_calendar_df[(listings_calendar_df[\"listing_id\"]==2595) & (listings_calendar_df[\"available\"]==\"f\")].count()"
   ]
  },
  {
   "cell_type": "code",
   "execution_count": 10,
   "id": "98b1a19b-298c-4b77-b14c-e4fa80abe65c",
   "metadata": {
    "tags": []
   },
   "outputs": [],
   "source": [
    "listing_big_df = pd.read_csv(\"../airbnb_listings_oct_1_2023.csv.gz\")"
   ]
  },
  {
   "cell_type": "code",
   "execution_count": 11,
   "id": "4ccc0865-0a29-480c-afc8-99d6817c35f7",
   "metadata": {
    "tags": []
   },
   "outputs": [],
   "source": [
    "# pd.set_option(\"max_columns\", None)"
   ]
  },
  {
   "cell_type": "code",
   "execution_count": 12,
   "id": "169711c9-a07f-4c8e-84d8-d30e1e4805fc",
   "metadata": {
    "tags": []
   },
   "outputs": [
    {
     "data": {
      "text/html": [
       "<div>\n",
       "<style scoped>\n",
       "    .dataframe tbody tr th:only-of-type {\n",
       "        vertical-align: middle;\n",
       "    }\n",
       "\n",
       "    .dataframe tbody tr th {\n",
       "        vertical-align: top;\n",
       "    }\n",
       "\n",
       "    .dataframe thead th {\n",
       "        text-align: right;\n",
       "    }\n",
       "</style>\n",
       "<table border=\"1\" class=\"dataframe\">\n",
       "  <thead>\n",
       "    <tr style=\"text-align: right;\">\n",
       "      <th></th>\n",
       "      <th>id</th>\n",
       "      <th>listing_url</th>\n",
       "      <th>scrape_id</th>\n",
       "      <th>last_scraped</th>\n",
       "      <th>source</th>\n",
       "      <th>name</th>\n",
       "      <th>description</th>\n",
       "      <th>neighborhood_overview</th>\n",
       "      <th>picture_url</th>\n",
       "      <th>host_id</th>\n",
       "      <th>host_url</th>\n",
       "      <th>host_name</th>\n",
       "      <th>host_since</th>\n",
       "      <th>host_location</th>\n",
       "      <th>host_about</th>\n",
       "      <th>host_response_time</th>\n",
       "      <th>host_response_rate</th>\n",
       "      <th>host_acceptance_rate</th>\n",
       "      <th>host_is_superhost</th>\n",
       "      <th>host_thumbnail_url</th>\n",
       "      <th>host_picture_url</th>\n",
       "      <th>host_neighbourhood</th>\n",
       "      <th>host_listings_count</th>\n",
       "      <th>host_total_listings_count</th>\n",
       "      <th>host_verifications</th>\n",
       "      <th>host_has_profile_pic</th>\n",
       "      <th>host_identity_verified</th>\n",
       "      <th>neighbourhood</th>\n",
       "      <th>neighbourhood_cleansed</th>\n",
       "      <th>neighbourhood_group_cleansed</th>\n",
       "      <th>latitude</th>\n",
       "      <th>longitude</th>\n",
       "      <th>property_type</th>\n",
       "      <th>room_type</th>\n",
       "      <th>accommodates</th>\n",
       "      <th>bathrooms</th>\n",
       "      <th>bathrooms_text</th>\n",
       "      <th>bedrooms</th>\n",
       "      <th>beds</th>\n",
       "      <th>amenities</th>\n",
       "      <th>price</th>\n",
       "      <th>minimum_nights</th>\n",
       "      <th>maximum_nights</th>\n",
       "      <th>minimum_minimum_nights</th>\n",
       "      <th>maximum_minimum_nights</th>\n",
       "      <th>minimum_maximum_nights</th>\n",
       "      <th>maximum_maximum_nights</th>\n",
       "      <th>minimum_nights_avg_ntm</th>\n",
       "      <th>maximum_nights_avg_ntm</th>\n",
       "      <th>calendar_updated</th>\n",
       "      <th>has_availability</th>\n",
       "      <th>availability_30</th>\n",
       "      <th>availability_60</th>\n",
       "      <th>availability_90</th>\n",
       "      <th>availability_365</th>\n",
       "      <th>calendar_last_scraped</th>\n",
       "      <th>number_of_reviews</th>\n",
       "      <th>number_of_reviews_ltm</th>\n",
       "      <th>number_of_reviews_l30d</th>\n",
       "      <th>first_review</th>\n",
       "      <th>last_review</th>\n",
       "      <th>review_scores_rating</th>\n",
       "      <th>review_scores_accuracy</th>\n",
       "      <th>review_scores_cleanliness</th>\n",
       "      <th>review_scores_checkin</th>\n",
       "      <th>review_scores_communication</th>\n",
       "      <th>review_scores_location</th>\n",
       "      <th>review_scores_value</th>\n",
       "      <th>license</th>\n",
       "      <th>instant_bookable</th>\n",
       "      <th>calculated_host_listings_count</th>\n",
       "      <th>calculated_host_listings_count_entire_homes</th>\n",
       "      <th>calculated_host_listings_count_private_rooms</th>\n",
       "      <th>calculated_host_listings_count_shared_rooms</th>\n",
       "      <th>reviews_per_month</th>\n",
       "    </tr>\n",
       "  </thead>\n",
       "  <tbody>\n",
       "    <tr>\n",
       "      <th>0</th>\n",
       "      <td>9630344</td>\n",
       "      <td>https://www.airbnb.com/rooms/9630344</td>\n",
       "      <td>20231001204715</td>\n",
       "      <td>2023-10-02</td>\n",
       "      <td>city scrape</td>\n",
       "      <td>Rental unit in Brooklyn  · ★4.80 · 1 bedroom ·...</td>\n",
       "      <td>Enjoy your own private bedroom in our 2 bedroo...</td>\n",
       "      <td>Easy access to subway. Trendy and yet quiet.</td>\n",
       "      <td>https://a0.muscache.com/pictures/496cf3f1-7d0d...</td>\n",
       "      <td>47783628</td>\n",
       "      <td>https://www.airbnb.com/users/show/47783628</td>\n",
       "      <td>Tiffannie</td>\n",
       "      <td>2015-10-30</td>\n",
       "      <td>New York, NY</td>\n",
       "      <td>NaN</td>\n",
       "      <td>NaN</td>\n",
       "      <td>NaN</td>\n",
       "      <td>NaN</td>\n",
       "      <td>f</td>\n",
       "      <td>https://a0.muscache.com/im/pictures/user/5c087...</td>\n",
       "      <td>https://a0.muscache.com/im/pictures/user/5c087...</td>\n",
       "      <td>NaN</td>\n",
       "      <td>1.0</td>\n",
       "      <td>2.0</td>\n",
       "      <td>['email', 'phone']</td>\n",
       "      <td>t</td>\n",
       "      <td>f</td>\n",
       "      <td>Brooklyn , New York, United States</td>\n",
       "      <td>Bushwick</td>\n",
       "      <td>Brooklyn</td>\n",
       "      <td>40.68457</td>\n",
       "      <td>-73.91181</td>\n",
       "      <td>Private room in rental unit</td>\n",
       "      <td>Private room</td>\n",
       "      <td>1</td>\n",
       "      <td>NaN</td>\n",
       "      <td>1 shared bath</td>\n",
       "      <td>NaN</td>\n",
       "      <td>1.0</td>\n",
       "      <td>[\"Body soap\", \"Dryer\", \"Refrigerator\", \"Wifi\",...</td>\n",
       "      <td>$65.00</td>\n",
       "      <td>30</td>\n",
       "      <td>30</td>\n",
       "      <td>30</td>\n",
       "      <td>30</td>\n",
       "      <td>30</td>\n",
       "      <td>30</td>\n",
       "      <td>30.0</td>\n",
       "      <td>30.0</td>\n",
       "      <td>NaN</td>\n",
       "      <td>t</td>\n",
       "      <td>29</td>\n",
       "      <td>59</td>\n",
       "      <td>89</td>\n",
       "      <td>364</td>\n",
       "      <td>2023-10-02</td>\n",
       "      <td>5</td>\n",
       "      <td>0</td>\n",
       "      <td>0</td>\n",
       "      <td>2016-08-14</td>\n",
       "      <td>2018-04-30</td>\n",
       "      <td>4.8</td>\n",
       "      <td>4.6</td>\n",
       "      <td>5.0</td>\n",
       "      <td>5.0</td>\n",
       "      <td>5.0</td>\n",
       "      <td>4.8</td>\n",
       "      <td>5.0</td>\n",
       "      <td>NaN</td>\n",
       "      <td>f</td>\n",
       "      <td>1</td>\n",
       "      <td>0</td>\n",
       "      <td>1</td>\n",
       "      <td>0</td>\n",
       "      <td>0.06</td>\n",
       "    </tr>\n",
       "  </tbody>\n",
       "</table>\n",
       "</div>"
      ],
      "text/plain": [
       "        id                           listing_url       scrape_id last_scraped  \\\n",
       "0  9630344  https://www.airbnb.com/rooms/9630344  20231001204715   2023-10-02   \n",
       "\n",
       "        source                                               name  \\\n",
       "0  city scrape  Rental unit in Brooklyn  · ★4.80 · 1 bedroom ·...   \n",
       "\n",
       "                                         description  \\\n",
       "0  Enjoy your own private bedroom in our 2 bedroo...   \n",
       "\n",
       "                          neighborhood_overview  \\\n",
       "0  Easy access to subway. Trendy and yet quiet.   \n",
       "\n",
       "                                         picture_url   host_id  \\\n",
       "0  https://a0.muscache.com/pictures/496cf3f1-7d0d...  47783628   \n",
       "\n",
       "                                     host_url  host_name  host_since  \\\n",
       "0  https://www.airbnb.com/users/show/47783628  Tiffannie  2015-10-30   \n",
       "\n",
       "  host_location host_about host_response_time host_response_rate  \\\n",
       "0  New York, NY        NaN                NaN                NaN   \n",
       "\n",
       "  host_acceptance_rate host_is_superhost  \\\n",
       "0                  NaN                 f   \n",
       "\n",
       "                                  host_thumbnail_url  \\\n",
       "0  https://a0.muscache.com/im/pictures/user/5c087...   \n",
       "\n",
       "                                    host_picture_url host_neighbourhood  \\\n",
       "0  https://a0.muscache.com/im/pictures/user/5c087...                NaN   \n",
       "\n",
       "   host_listings_count  host_total_listings_count  host_verifications  \\\n",
       "0                  1.0                        2.0  ['email', 'phone']   \n",
       "\n",
       "  host_has_profile_pic host_identity_verified  \\\n",
       "0                    t                      f   \n",
       "\n",
       "                        neighbourhood neighbourhood_cleansed  \\\n",
       "0  Brooklyn , New York, United States               Bushwick   \n",
       "\n",
       "  neighbourhood_group_cleansed  latitude  longitude  \\\n",
       "0                     Brooklyn  40.68457  -73.91181   \n",
       "\n",
       "                 property_type     room_type  accommodates  bathrooms  \\\n",
       "0  Private room in rental unit  Private room             1        NaN   \n",
       "\n",
       "  bathrooms_text  bedrooms  beds  \\\n",
       "0  1 shared bath       NaN   1.0   \n",
       "\n",
       "                                           amenities   price  minimum_nights  \\\n",
       "0  [\"Body soap\", \"Dryer\", \"Refrigerator\", \"Wifi\",...  $65.00              30   \n",
       "\n",
       "   maximum_nights  minimum_minimum_nights  maximum_minimum_nights  \\\n",
       "0              30                      30                      30   \n",
       "\n",
       "   minimum_maximum_nights  maximum_maximum_nights  minimum_nights_avg_ntm  \\\n",
       "0                      30                      30                    30.0   \n",
       "\n",
       "   maximum_nights_avg_ntm  calendar_updated has_availability  availability_30  \\\n",
       "0                    30.0               NaN                t               29   \n",
       "\n",
       "   availability_60  availability_90  availability_365 calendar_last_scraped  \\\n",
       "0               59               89               364            2023-10-02   \n",
       "\n",
       "   number_of_reviews  number_of_reviews_ltm  number_of_reviews_l30d  \\\n",
       "0                  5                      0                       0   \n",
       "\n",
       "  first_review last_review  review_scores_rating  review_scores_accuracy  \\\n",
       "0   2016-08-14  2018-04-30                   4.8                     4.6   \n",
       "\n",
       "   review_scores_cleanliness  review_scores_checkin  \\\n",
       "0                        5.0                    5.0   \n",
       "\n",
       "   review_scores_communication  review_scores_location  review_scores_value  \\\n",
       "0                          5.0                     4.8                  5.0   \n",
       "\n",
       "  license instant_bookable  calculated_host_listings_count  \\\n",
       "0     NaN                f                               1   \n",
       "\n",
       "   calculated_host_listings_count_entire_homes  \\\n",
       "0                                            0   \n",
       "\n",
       "   calculated_host_listings_count_private_rooms  \\\n",
       "0                                             1   \n",
       "\n",
       "   calculated_host_listings_count_shared_rooms  reviews_per_month  \n",
       "0                                            0               0.06  "
      ]
     },
     "execution_count": 12,
     "metadata": {},
     "output_type": "execute_result"
    }
   ],
   "source": [
    "listing_big_df.head(1)"
   ]
  },
  {
   "cell_type": "code",
   "execution_count": 13,
   "id": "96dceaa4-624c-4164-8e55-bf6c7da4b16c",
   "metadata": {
    "tags": []
   },
   "outputs": [
    {
     "data": {
      "text/plain": [
       "274      [\"Smoke alarm\", \"Kitchen\", \"Shampoo\", \"Essenti...\n",
       "979      [\"Clothing storage: closet and dresser\", \"Baki...\n",
       "33838    [\"Microwave\", \"Clothing storage: wardrobe\", \"S...\n",
       "9288     [\"Smoke alarm\", \"Kitchen\", \"Washer\", \"Essentia...\n",
       "19627    [\"Kitchen\", \"Washer\", \"Essentials\", \"TV\", \"Air...\n",
       "22280    [\"Microwave\", \"Fast wifi \\u2013 393 Mbps\", \"Se...\n",
       "2319     [\"Kitchen\", \"Essentials\", \"TV\", \"Air condition...\n",
       "19393    [\"Microwave\", \"Self check-in\", \"Dryer\", \"Refri...\n",
       "33584    [\"Smoke alarm\", \"Kitchen\", \"TV\", \"Air conditio...\n",
       "11508    [\"Smoke alarm\", \"Kitchen\", \"Essentials\", \"TV\",...\n",
       "31136    [\"Shared BBQ grill: charcoal\", \"Microwave\", \"D...\n",
       "3703     [\"Microwave\", \"Baking sheet\", \"Refrigerator\", ...\n",
       "2989     [\"Baking sheet\", \"Cleaning products\", \"Body so...\n",
       "7135     [\"Drying rack for clothing\", \"Microwave\", \"Bak...\n",
       "38177    [\"Smoke alarm\", \"Kitchen\", \"Carbon monoxide al...\n",
       "12735    [\"Self check-in\", \"Dryer\", \"Refrigerator\", \"Wi...\n",
       "16537    [\"Self check-in\", \"Building staff\", \"Wifi\", \"E...\n",
       "4341     [\"Smoke alarm\", \"Kitchen\", \"Shampoo\", \"Essenti...\n",
       "1387     [\"Smoke alarm\", \"Essentials\", \"Air conditionin...\n",
       "3278     [\"Microwave\", \"Self check-in\", \"Body soap\", \"S...\n",
       "31111    [\"Smoke alarm\", \"Kitchen\", \"Shampoo\", \"Essenti...\n",
       "10658    [\"Microwave\", \"Self check-in\", \"Cleaning produ...\n",
       "16809    [\"Microwave\", \"Cleaning products\", \"Body soap\"...\n",
       "5073     [\"Shampoo\", \"Cooking basics\", \"Essentials\", \"T...\n",
       "2992     [\"Smoke alarm\", \"Kitchen\", \"Shampoo\", \"Air con...\n",
       "Name: amenities, dtype: object"
      ]
     },
     "execution_count": 13,
     "metadata": {},
     "output_type": "execute_result"
    }
   ],
   "source": [
    "listing_big_df[\"amenities\"].sample(25)"
   ]
  },
  {
   "cell_type": "code",
   "execution_count": 14,
   "id": "f895d462-6e39-4c42-8cba-d45576ea0adc",
   "metadata": {
    "tags": []
   },
   "outputs": [
    {
     "data": {
      "text/plain": [
       "Index(['id', 'listing_url', 'scrape_id', 'last_scraped', 'source', 'name',\n",
       "       'description', 'neighborhood_overview', 'picture_url', 'host_id',\n",
       "       'host_url', 'host_name', 'host_since', 'host_location', 'host_about',\n",
       "       'host_response_time', 'host_response_rate', 'host_acceptance_rate',\n",
       "       'host_is_superhost', 'host_thumbnail_url', 'host_picture_url',\n",
       "       'host_neighbourhood', 'host_listings_count',\n",
       "       'host_total_listings_count', 'host_verifications',\n",
       "       'host_has_profile_pic', 'host_identity_verified', 'neighbourhood',\n",
       "       'neighbourhood_cleansed', 'neighbourhood_group_cleansed', 'latitude',\n",
       "       'longitude', 'property_type', 'room_type', 'accommodates', 'bathrooms',\n",
       "       'bathrooms_text', 'bedrooms', 'beds', 'amenities', 'price',\n",
       "       'minimum_nights', 'maximum_nights', 'minimum_minimum_nights',\n",
       "       'maximum_minimum_nights', 'minimum_maximum_nights',\n",
       "       'maximum_maximum_nights', 'minimum_nights_avg_ntm',\n",
       "       'maximum_nights_avg_ntm', 'calendar_updated', 'has_availability',\n",
       "       'availability_30', 'availability_60', 'availability_90',\n",
       "       'availability_365', 'calendar_last_scraped', 'number_of_reviews',\n",
       "       'number_of_reviews_ltm', 'number_of_reviews_l30d', 'first_review',\n",
       "       'last_review', 'review_scores_rating', 'review_scores_accuracy',\n",
       "       'review_scores_cleanliness', 'review_scores_checkin',\n",
       "       'review_scores_communication', 'review_scores_location',\n",
       "       'review_scores_value', 'license', 'instant_bookable',\n",
       "       'calculated_host_listings_count',\n",
       "       'calculated_host_listings_count_entire_homes',\n",
       "       'calculated_host_listings_count_private_rooms',\n",
       "       'calculated_host_listings_count_shared_rooms', 'reviews_per_month'],\n",
       "      dtype='object')"
      ]
     },
     "execution_count": 14,
     "metadata": {},
     "output_type": "execute_result"
    }
   ],
   "source": [
    "listing_big_df.columns\n",
    "#review_scores_rating'"
   ]
  },
  {
   "cell_type": "code",
   "execution_count": 15,
   "id": "aa7a3f67-5eed-4660-bb28-badb3de4ddbd",
   "metadata": {
    "tags": []
   },
   "outputs": [
    {
     "data": {
      "text/html": [
       "<div>\n",
       "<style scoped>\n",
       "    .dataframe tbody tr th:only-of-type {\n",
       "        vertical-align: middle;\n",
       "    }\n",
       "\n",
       "    .dataframe tbody tr th {\n",
       "        vertical-align: top;\n",
       "    }\n",
       "\n",
       "    .dataframe thead th {\n",
       "        text-align: right;\n",
       "    }\n",
       "</style>\n",
       "<table border=\"1\" class=\"dataframe\">\n",
       "  <thead>\n",
       "    <tr style=\"text-align: right;\">\n",
       "      <th></th>\n",
       "      <th>id</th>\n",
       "      <th>NAME</th>\n",
       "      <th>host id</th>\n",
       "      <th>host_identity_verified</th>\n",
       "      <th>host name</th>\n",
       "      <th>neighbourhood group</th>\n",
       "      <th>neighbourhood</th>\n",
       "      <th>lat</th>\n",
       "      <th>long</th>\n",
       "      <th>country</th>\n",
       "      <th>country code</th>\n",
       "      <th>instant_bookable</th>\n",
       "      <th>cancellation_policy</th>\n",
       "      <th>room type</th>\n",
       "      <th>Construction year</th>\n",
       "      <th>price</th>\n",
       "      <th>service fee</th>\n",
       "      <th>minimum nights</th>\n",
       "      <th>number of reviews</th>\n",
       "      <th>last review</th>\n",
       "      <th>reviews per month</th>\n",
       "      <th>review rate number</th>\n",
       "      <th>calculated host listings count</th>\n",
       "      <th>availability 365</th>\n",
       "      <th>house_rules</th>\n",
       "      <th>license</th>\n",
       "    </tr>\n",
       "  </thead>\n",
       "  <tbody>\n",
       "    <tr>\n",
       "      <th>count</th>\n",
       "      <td>1.025990e+05</td>\n",
       "      <td>102349</td>\n",
       "      <td>1.025990e+05</td>\n",
       "      <td>102310</td>\n",
       "      <td>102193</td>\n",
       "      <td>102570</td>\n",
       "      <td>102583</td>\n",
       "      <td>102591.000000</td>\n",
       "      <td>102591.000000</td>\n",
       "      <td>102067</td>\n",
       "      <td>102468</td>\n",
       "      <td>102494</td>\n",
       "      <td>102523</td>\n",
       "      <td>102599</td>\n",
       "      <td>102385.000000</td>\n",
       "      <td>102352</td>\n",
       "      <td>102326</td>\n",
       "      <td>102190.000000</td>\n",
       "      <td>102416.000000</td>\n",
       "      <td>86706</td>\n",
       "      <td>86720.000000</td>\n",
       "      <td>102273.000000</td>\n",
       "      <td>102280.000000</td>\n",
       "      <td>102151.000000</td>\n",
       "      <td>50468</td>\n",
       "      <td>2</td>\n",
       "    </tr>\n",
       "    <tr>\n",
       "      <th>unique</th>\n",
       "      <td>NaN</td>\n",
       "      <td>61281</td>\n",
       "      <td>NaN</td>\n",
       "      <td>2</td>\n",
       "      <td>13190</td>\n",
       "      <td>7</td>\n",
       "      <td>224</td>\n",
       "      <td>NaN</td>\n",
       "      <td>NaN</td>\n",
       "      <td>1</td>\n",
       "      <td>1</td>\n",
       "      <td>2</td>\n",
       "      <td>3</td>\n",
       "      <td>4</td>\n",
       "      <td>NaN</td>\n",
       "      <td>1151</td>\n",
       "      <td>231</td>\n",
       "      <td>NaN</td>\n",
       "      <td>NaN</td>\n",
       "      <td>2477</td>\n",
       "      <td>NaN</td>\n",
       "      <td>NaN</td>\n",
       "      <td>NaN</td>\n",
       "      <td>NaN</td>\n",
       "      <td>1976</td>\n",
       "      <td>1</td>\n",
       "    </tr>\n",
       "    <tr>\n",
       "      <th>top</th>\n",
       "      <td>NaN</td>\n",
       "      <td>Home away from home</td>\n",
       "      <td>NaN</td>\n",
       "      <td>unconfirmed</td>\n",
       "      <td>Michael</td>\n",
       "      <td>Manhattan</td>\n",
       "      <td>Bedford-Stuyvesant</td>\n",
       "      <td>NaN</td>\n",
       "      <td>NaN</td>\n",
       "      <td>United States</td>\n",
       "      <td>US</td>\n",
       "      <td>False</td>\n",
       "      <td>moderate</td>\n",
       "      <td>Entire home/apt</td>\n",
       "      <td>NaN</td>\n",
       "      <td>$206</td>\n",
       "      <td>$41</td>\n",
       "      <td>NaN</td>\n",
       "      <td>NaN</td>\n",
       "      <td>6/23/2019</td>\n",
       "      <td>NaN</td>\n",
       "      <td>NaN</td>\n",
       "      <td>NaN</td>\n",
       "      <td>NaN</td>\n",
       "      <td>#NAME?</td>\n",
       "      <td>41662/AL</td>\n",
       "    </tr>\n",
       "    <tr>\n",
       "      <th>freq</th>\n",
       "      <td>NaN</td>\n",
       "      <td>33</td>\n",
       "      <td>NaN</td>\n",
       "      <td>51200</td>\n",
       "      <td>881</td>\n",
       "      <td>43792</td>\n",
       "      <td>7937</td>\n",
       "      <td>NaN</td>\n",
       "      <td>NaN</td>\n",
       "      <td>102067</td>\n",
       "      <td>102468</td>\n",
       "      <td>51474</td>\n",
       "      <td>34343</td>\n",
       "      <td>53701</td>\n",
       "      <td>NaN</td>\n",
       "      <td>137</td>\n",
       "      <td>526</td>\n",
       "      <td>NaN</td>\n",
       "      <td>NaN</td>\n",
       "      <td>2443</td>\n",
       "      <td>NaN</td>\n",
       "      <td>NaN</td>\n",
       "      <td>NaN</td>\n",
       "      <td>NaN</td>\n",
       "      <td>2712</td>\n",
       "      <td>2</td>\n",
       "    </tr>\n",
       "    <tr>\n",
       "      <th>mean</th>\n",
       "      <td>2.914623e+07</td>\n",
       "      <td>NaN</td>\n",
       "      <td>4.925411e+10</td>\n",
       "      <td>NaN</td>\n",
       "      <td>NaN</td>\n",
       "      <td>NaN</td>\n",
       "      <td>NaN</td>\n",
       "      <td>40.728094</td>\n",
       "      <td>-73.949644</td>\n",
       "      <td>NaN</td>\n",
       "      <td>NaN</td>\n",
       "      <td>NaN</td>\n",
       "      <td>NaN</td>\n",
       "      <td>NaN</td>\n",
       "      <td>2012.487464</td>\n",
       "      <td>NaN</td>\n",
       "      <td>NaN</td>\n",
       "      <td>8.135845</td>\n",
       "      <td>27.483743</td>\n",
       "      <td>NaN</td>\n",
       "      <td>1.374022</td>\n",
       "      <td>3.279106</td>\n",
       "      <td>7.936605</td>\n",
       "      <td>141.133254</td>\n",
       "      <td>NaN</td>\n",
       "      <td>NaN</td>\n",
       "    </tr>\n",
       "    <tr>\n",
       "      <th>std</th>\n",
       "      <td>1.625751e+07</td>\n",
       "      <td>NaN</td>\n",
       "      <td>2.853900e+10</td>\n",
       "      <td>NaN</td>\n",
       "      <td>NaN</td>\n",
       "      <td>NaN</td>\n",
       "      <td>NaN</td>\n",
       "      <td>0.055857</td>\n",
       "      <td>0.049521</td>\n",
       "      <td>NaN</td>\n",
       "      <td>NaN</td>\n",
       "      <td>NaN</td>\n",
       "      <td>NaN</td>\n",
       "      <td>NaN</td>\n",
       "      <td>5.765556</td>\n",
       "      <td>NaN</td>\n",
       "      <td>NaN</td>\n",
       "      <td>30.553781</td>\n",
       "      <td>49.508954</td>\n",
       "      <td>NaN</td>\n",
       "      <td>1.746621</td>\n",
       "      <td>1.284657</td>\n",
       "      <td>32.218780</td>\n",
       "      <td>135.435024</td>\n",
       "      <td>NaN</td>\n",
       "      <td>NaN</td>\n",
       "    </tr>\n",
       "    <tr>\n",
       "      <th>min</th>\n",
       "      <td>1.001254e+06</td>\n",
       "      <td>NaN</td>\n",
       "      <td>1.236005e+08</td>\n",
       "      <td>NaN</td>\n",
       "      <td>NaN</td>\n",
       "      <td>NaN</td>\n",
       "      <td>NaN</td>\n",
       "      <td>40.499790</td>\n",
       "      <td>-74.249840</td>\n",
       "      <td>NaN</td>\n",
       "      <td>NaN</td>\n",
       "      <td>NaN</td>\n",
       "      <td>NaN</td>\n",
       "      <td>NaN</td>\n",
       "      <td>2003.000000</td>\n",
       "      <td>NaN</td>\n",
       "      <td>NaN</td>\n",
       "      <td>-1223.000000</td>\n",
       "      <td>0.000000</td>\n",
       "      <td>NaN</td>\n",
       "      <td>0.010000</td>\n",
       "      <td>1.000000</td>\n",
       "      <td>1.000000</td>\n",
       "      <td>-10.000000</td>\n",
       "      <td>NaN</td>\n",
       "      <td>NaN</td>\n",
       "    </tr>\n",
       "    <tr>\n",
       "      <th>25%</th>\n",
       "      <td>1.508581e+07</td>\n",
       "      <td>NaN</td>\n",
       "      <td>2.458333e+10</td>\n",
       "      <td>NaN</td>\n",
       "      <td>NaN</td>\n",
       "      <td>NaN</td>\n",
       "      <td>NaN</td>\n",
       "      <td>40.688740</td>\n",
       "      <td>-73.982580</td>\n",
       "      <td>NaN</td>\n",
       "      <td>NaN</td>\n",
       "      <td>NaN</td>\n",
       "      <td>NaN</td>\n",
       "      <td>NaN</td>\n",
       "      <td>2007.000000</td>\n",
       "      <td>NaN</td>\n",
       "      <td>NaN</td>\n",
       "      <td>2.000000</td>\n",
       "      <td>1.000000</td>\n",
       "      <td>NaN</td>\n",
       "      <td>0.220000</td>\n",
       "      <td>2.000000</td>\n",
       "      <td>1.000000</td>\n",
       "      <td>3.000000</td>\n",
       "      <td>NaN</td>\n",
       "      <td>NaN</td>\n",
       "    </tr>\n",
       "    <tr>\n",
       "      <th>50%</th>\n",
       "      <td>2.913660e+07</td>\n",
       "      <td>NaN</td>\n",
       "      <td>4.911774e+10</td>\n",
       "      <td>NaN</td>\n",
       "      <td>NaN</td>\n",
       "      <td>NaN</td>\n",
       "      <td>NaN</td>\n",
       "      <td>40.722290</td>\n",
       "      <td>-73.954440</td>\n",
       "      <td>NaN</td>\n",
       "      <td>NaN</td>\n",
       "      <td>NaN</td>\n",
       "      <td>NaN</td>\n",
       "      <td>NaN</td>\n",
       "      <td>2012.000000</td>\n",
       "      <td>NaN</td>\n",
       "      <td>NaN</td>\n",
       "      <td>3.000000</td>\n",
       "      <td>7.000000</td>\n",
       "      <td>NaN</td>\n",
       "      <td>0.740000</td>\n",
       "      <td>3.000000</td>\n",
       "      <td>1.000000</td>\n",
       "      <td>96.000000</td>\n",
       "      <td>NaN</td>\n",
       "      <td>NaN</td>\n",
       "    </tr>\n",
       "    <tr>\n",
       "      <th>75%</th>\n",
       "      <td>4.320120e+07</td>\n",
       "      <td>NaN</td>\n",
       "      <td>7.399650e+10</td>\n",
       "      <td>NaN</td>\n",
       "      <td>NaN</td>\n",
       "      <td>NaN</td>\n",
       "      <td>NaN</td>\n",
       "      <td>40.762760</td>\n",
       "      <td>-73.932350</td>\n",
       "      <td>NaN</td>\n",
       "      <td>NaN</td>\n",
       "      <td>NaN</td>\n",
       "      <td>NaN</td>\n",
       "      <td>NaN</td>\n",
       "      <td>2017.000000</td>\n",
       "      <td>NaN</td>\n",
       "      <td>NaN</td>\n",
       "      <td>5.000000</td>\n",
       "      <td>30.000000</td>\n",
       "      <td>NaN</td>\n",
       "      <td>2.000000</td>\n",
       "      <td>4.000000</td>\n",
       "      <td>2.000000</td>\n",
       "      <td>269.000000</td>\n",
       "      <td>NaN</td>\n",
       "      <td>NaN</td>\n",
       "    </tr>\n",
       "    <tr>\n",
       "      <th>max</th>\n",
       "      <td>5.736742e+07</td>\n",
       "      <td>NaN</td>\n",
       "      <td>9.876313e+10</td>\n",
       "      <td>NaN</td>\n",
       "      <td>NaN</td>\n",
       "      <td>NaN</td>\n",
       "      <td>NaN</td>\n",
       "      <td>40.916970</td>\n",
       "      <td>-73.705220</td>\n",
       "      <td>NaN</td>\n",
       "      <td>NaN</td>\n",
       "      <td>NaN</td>\n",
       "      <td>NaN</td>\n",
       "      <td>NaN</td>\n",
       "      <td>2022.000000</td>\n",
       "      <td>NaN</td>\n",
       "      <td>NaN</td>\n",
       "      <td>5645.000000</td>\n",
       "      <td>1024.000000</td>\n",
       "      <td>NaN</td>\n",
       "      <td>90.000000</td>\n",
       "      <td>5.000000</td>\n",
       "      <td>332.000000</td>\n",
       "      <td>3677.000000</td>\n",
       "      <td>NaN</td>\n",
       "      <td>NaN</td>\n",
       "    </tr>\n",
       "  </tbody>\n",
       "</table>\n",
       "</div>"
      ],
      "text/plain": [
       "                  id                 NAME       host id  \\\n",
       "count   1.025990e+05               102349  1.025990e+05   \n",
       "unique           NaN                61281           NaN   \n",
       "top              NaN  Home away from home           NaN   \n",
       "freq             NaN                   33           NaN   \n",
       "mean    2.914623e+07                  NaN  4.925411e+10   \n",
       "std     1.625751e+07                  NaN  2.853900e+10   \n",
       "min     1.001254e+06                  NaN  1.236005e+08   \n",
       "25%     1.508581e+07                  NaN  2.458333e+10   \n",
       "50%     2.913660e+07                  NaN  4.911774e+10   \n",
       "75%     4.320120e+07                  NaN  7.399650e+10   \n",
       "max     5.736742e+07                  NaN  9.876313e+10   \n",
       "\n",
       "       host_identity_verified host name neighbourhood group  \\\n",
       "count                  102310    102193              102570   \n",
       "unique                      2     13190                   7   \n",
       "top               unconfirmed   Michael           Manhattan   \n",
       "freq                    51200       881               43792   \n",
       "mean                      NaN       NaN                 NaN   \n",
       "std                       NaN       NaN                 NaN   \n",
       "min                       NaN       NaN                 NaN   \n",
       "25%                       NaN       NaN                 NaN   \n",
       "50%                       NaN       NaN                 NaN   \n",
       "75%                       NaN       NaN                 NaN   \n",
       "max                       NaN       NaN                 NaN   \n",
       "\n",
       "             neighbourhood            lat           long        country  \\\n",
       "count               102583  102591.000000  102591.000000         102067   \n",
       "unique                 224            NaN            NaN              1   \n",
       "top     Bedford-Stuyvesant            NaN            NaN  United States   \n",
       "freq                  7937            NaN            NaN         102067   \n",
       "mean                   NaN      40.728094     -73.949644            NaN   \n",
       "std                    NaN       0.055857       0.049521            NaN   \n",
       "min                    NaN      40.499790     -74.249840            NaN   \n",
       "25%                    NaN      40.688740     -73.982580            NaN   \n",
       "50%                    NaN      40.722290     -73.954440            NaN   \n",
       "75%                    NaN      40.762760     -73.932350            NaN   \n",
       "max                    NaN      40.916970     -73.705220            NaN   \n",
       "\n",
       "       country code instant_bookable cancellation_policy        room type  \\\n",
       "count        102468           102494              102523           102599   \n",
       "unique            1                2                   3                4   \n",
       "top              US            False            moderate  Entire home/apt   \n",
       "freq         102468            51474               34343            53701   \n",
       "mean            NaN              NaN                 NaN              NaN   \n",
       "std             NaN              NaN                 NaN              NaN   \n",
       "min             NaN              NaN                 NaN              NaN   \n",
       "25%             NaN              NaN                 NaN              NaN   \n",
       "50%             NaN              NaN                 NaN              NaN   \n",
       "75%             NaN              NaN                 NaN              NaN   \n",
       "max             NaN              NaN                 NaN              NaN   \n",
       "\n",
       "        Construction year   price service fee  minimum nights  \\\n",
       "count       102385.000000  102352      102326   102190.000000   \n",
       "unique                NaN    1151         231             NaN   \n",
       "top                   NaN   $206         $41              NaN   \n",
       "freq                  NaN     137         526             NaN   \n",
       "mean          2012.487464     NaN         NaN        8.135845   \n",
       "std              5.765556     NaN         NaN       30.553781   \n",
       "min           2003.000000     NaN         NaN    -1223.000000   \n",
       "25%           2007.000000     NaN         NaN        2.000000   \n",
       "50%           2012.000000     NaN         NaN        3.000000   \n",
       "75%           2017.000000     NaN         NaN        5.000000   \n",
       "max           2022.000000     NaN         NaN     5645.000000   \n",
       "\n",
       "        number of reviews last review  reviews per month  review rate number  \\\n",
       "count       102416.000000       86706       86720.000000       102273.000000   \n",
       "unique                NaN        2477                NaN                 NaN   \n",
       "top                   NaN   6/23/2019                NaN                 NaN   \n",
       "freq                  NaN        2443                NaN                 NaN   \n",
       "mean            27.483743         NaN           1.374022            3.279106   \n",
       "std             49.508954         NaN           1.746621            1.284657   \n",
       "min              0.000000         NaN           0.010000            1.000000   \n",
       "25%              1.000000         NaN           0.220000            2.000000   \n",
       "50%              7.000000         NaN           0.740000            3.000000   \n",
       "75%             30.000000         NaN           2.000000            4.000000   \n",
       "max           1024.000000         NaN          90.000000            5.000000   \n",
       "\n",
       "        calculated host listings count  availability 365 house_rules   license  \n",
       "count                    102280.000000     102151.000000       50468         2  \n",
       "unique                             NaN               NaN        1976         1  \n",
       "top                                NaN               NaN      #NAME?  41662/AL  \n",
       "freq                               NaN               NaN        2712         2  \n",
       "mean                          7.936605        141.133254         NaN       NaN  \n",
       "std                          32.218780        135.435024         NaN       NaN  \n",
       "min                           1.000000        -10.000000         NaN       NaN  \n",
       "25%                           1.000000          3.000000         NaN       NaN  \n",
       "50%                           1.000000         96.000000         NaN       NaN  \n",
       "75%                           2.000000        269.000000         NaN       NaN  \n",
       "max                         332.000000       3677.000000         NaN       NaN  "
      ]
     },
     "execution_count": 15,
     "metadata": {},
     "output_type": "execute_result"
    }
   ],
   "source": [
    "#listings_open_df.head()\n",
    "listings_open_df.describe(include=\"all\")"
   ]
  },
  {
   "cell_type": "code",
   "execution_count": 16,
   "id": "4b6cef9e-c274-4db7-aaac-ab793f9ee90e",
   "metadata": {
    "tags": []
   },
   "outputs": [
    {
     "ename": "KeyError",
     "evalue": "'listing_id'",
     "output_type": "error",
     "traceback": [
      "\u001b[1;31m---------------------------------------------------------------------------\u001b[0m",
      "\u001b[1;31mKeyError\u001b[0m                                  Traceback (most recent call last)",
      "File \u001b[1;32m~\\anaconda3\\Lib\\site-packages\\pandas\\core\\indexes\\base.py:3653\u001b[0m, in \u001b[0;36mIndex.get_loc\u001b[1;34m(self, key)\u001b[0m\n\u001b[0;32m   3652\u001b[0m \u001b[38;5;28;01mtry\u001b[39;00m:\n\u001b[1;32m-> 3653\u001b[0m     \u001b[38;5;28;01mreturn\u001b[39;00m \u001b[38;5;28mself\u001b[39m\u001b[38;5;241m.\u001b[39m_engine\u001b[38;5;241m.\u001b[39mget_loc(casted_key)\n\u001b[0;32m   3654\u001b[0m \u001b[38;5;28;01mexcept\u001b[39;00m \u001b[38;5;167;01mKeyError\u001b[39;00m \u001b[38;5;28;01mas\u001b[39;00m err:\n",
      "File \u001b[1;32m~\\anaconda3\\Lib\\site-packages\\pandas\\_libs\\index.pyx:147\u001b[0m, in \u001b[0;36mpandas._libs.index.IndexEngine.get_loc\u001b[1;34m()\u001b[0m\n",
      "File \u001b[1;32m~\\anaconda3\\Lib\\site-packages\\pandas\\_libs\\index.pyx:176\u001b[0m, in \u001b[0;36mpandas._libs.index.IndexEngine.get_loc\u001b[1;34m()\u001b[0m\n",
      "File \u001b[1;32mpandas\\_libs\\hashtable_class_helper.pxi:7080\u001b[0m, in \u001b[0;36mpandas._libs.hashtable.PyObjectHashTable.get_item\u001b[1;34m()\u001b[0m\n",
      "File \u001b[1;32mpandas\\_libs\\hashtable_class_helper.pxi:7088\u001b[0m, in \u001b[0;36mpandas._libs.hashtable.PyObjectHashTable.get_item\u001b[1;34m()\u001b[0m\n",
      "\u001b[1;31mKeyError\u001b[0m: 'listing_id'",
      "\nThe above exception was the direct cause of the following exception:\n",
      "\u001b[1;31mKeyError\u001b[0m                                  Traceback (most recent call last)",
      "Cell \u001b[1;32mIn[16], line 2\u001b[0m\n\u001b[0;32m      1\u001b[0m listings_open_df\u001b[38;5;241m.\u001b[39mnunique()\n\u001b[1;32m----> 2\u001b[0m display(listings_open_df[\u001b[38;5;124m\"\u001b[39m\u001b[38;5;124mlisting_id\u001b[39m\u001b[38;5;124m\"\u001b[39m]\u001b[38;5;241m.\u001b[39mmin())\n",
      "File \u001b[1;32m~\\anaconda3\\Lib\\site-packages\\pandas\\core\\frame.py:3761\u001b[0m, in \u001b[0;36mDataFrame.__getitem__\u001b[1;34m(self, key)\u001b[0m\n\u001b[0;32m   3759\u001b[0m \u001b[38;5;28;01mif\u001b[39;00m \u001b[38;5;28mself\u001b[39m\u001b[38;5;241m.\u001b[39mcolumns\u001b[38;5;241m.\u001b[39mnlevels \u001b[38;5;241m>\u001b[39m \u001b[38;5;241m1\u001b[39m:\n\u001b[0;32m   3760\u001b[0m     \u001b[38;5;28;01mreturn\u001b[39;00m \u001b[38;5;28mself\u001b[39m\u001b[38;5;241m.\u001b[39m_getitem_multilevel(key)\n\u001b[1;32m-> 3761\u001b[0m indexer \u001b[38;5;241m=\u001b[39m \u001b[38;5;28mself\u001b[39m\u001b[38;5;241m.\u001b[39mcolumns\u001b[38;5;241m.\u001b[39mget_loc(key)\n\u001b[0;32m   3762\u001b[0m \u001b[38;5;28;01mif\u001b[39;00m is_integer(indexer):\n\u001b[0;32m   3763\u001b[0m     indexer \u001b[38;5;241m=\u001b[39m [indexer]\n",
      "File \u001b[1;32m~\\anaconda3\\Lib\\site-packages\\pandas\\core\\indexes\\base.py:3655\u001b[0m, in \u001b[0;36mIndex.get_loc\u001b[1;34m(self, key)\u001b[0m\n\u001b[0;32m   3653\u001b[0m     \u001b[38;5;28;01mreturn\u001b[39;00m \u001b[38;5;28mself\u001b[39m\u001b[38;5;241m.\u001b[39m_engine\u001b[38;5;241m.\u001b[39mget_loc(casted_key)\n\u001b[0;32m   3654\u001b[0m \u001b[38;5;28;01mexcept\u001b[39;00m \u001b[38;5;167;01mKeyError\u001b[39;00m \u001b[38;5;28;01mas\u001b[39;00m err:\n\u001b[1;32m-> 3655\u001b[0m     \u001b[38;5;28;01mraise\u001b[39;00m \u001b[38;5;167;01mKeyError\u001b[39;00m(key) \u001b[38;5;28;01mfrom\u001b[39;00m \u001b[38;5;21;01merr\u001b[39;00m\n\u001b[0;32m   3656\u001b[0m \u001b[38;5;28;01mexcept\u001b[39;00m \u001b[38;5;167;01mTypeError\u001b[39;00m:\n\u001b[0;32m   3657\u001b[0m     \u001b[38;5;66;03m# If we have a listlike key, _check_indexing_error will raise\u001b[39;00m\n\u001b[0;32m   3658\u001b[0m     \u001b[38;5;66;03m#  InvalidIndexError. Otherwise we fall through and re-raise\u001b[39;00m\n\u001b[0;32m   3659\u001b[0m     \u001b[38;5;66;03m#  the TypeError.\u001b[39;00m\n\u001b[0;32m   3660\u001b[0m     \u001b[38;5;28mself\u001b[39m\u001b[38;5;241m.\u001b[39m_check_indexing_error(key)\n",
      "\u001b[1;31mKeyError\u001b[0m: 'listing_id'"
     ]
    }
   ],
   "source": [
    "listings_open_df.nunique()\n",
    "display(listings_open_df[\"listing_id\"].min())"
   ]
  },
  {
   "cell_type": "code",
   "execution_count": null,
   "id": "f03b4754-b562-4e29-8654-1e50918afd36",
   "metadata": {
    "tags": []
   },
   "outputs": [],
   "source": [
    "listings_open_df.info()"
   ]
  },
  {
   "cell_type": "code",
   "execution_count": null,
   "id": "36c51863-2cd5-491c-a5f2-f588bbf4d1a6",
   "metadata": {
    "tags": []
   },
   "outputs": [],
   "source": [
    "# listings df for 2022\n",
    "df22.info()"
   ]
  },
  {
   "cell_type": "code",
   "execution_count": null,
   "id": "b0ec673b-8b2e-4e88-8954-1b05e7d7e0dc",
   "metadata": {
    "tags": []
   },
   "outputs": [],
   "source": [
    "df22.describe()"
   ]
  },
  {
   "cell_type": "code",
   "execution_count": null,
   "id": "eb69181c-0585-4f52-b2ff-e110e295a7e3",
   "metadata": {
    "tags": []
   },
   "outputs": [],
   "source": [
    "df22.describe(include=\"all\")"
   ]
  },
  {
   "cell_type": "code",
   "execution_count": null,
   "id": "fe002766-06cc-4c7e-aa09-acd704cf0d4b",
   "metadata": {
    "tags": []
   },
   "outputs": [],
   "source": [
    "# listings df for 2023\n",
    "df23.info()"
   ]
  },
  {
   "cell_type": "code",
   "execution_count": null,
   "id": "147b779e-c336-421f-8626-224b852c5b8e",
   "metadata": {
    "tags": []
   },
   "outputs": [],
   "source": [
    "df23.head()"
   ]
  },
  {
   "cell_type": "code",
   "execution_count": null,
   "id": "c4fb024d-5ad0-4c68-bedd-89717ce0e620",
   "metadata": {
    "tags": []
   },
   "outputs": [],
   "source": [
    "df23.describe()"
   ]
  },
  {
   "cell_type": "code",
   "execution_count": null,
   "id": "aca6dd85-95c6-45ed-8eb3-71eed327d54b",
   "metadata": {
    "tags": []
   },
   "outputs": [],
   "source": [
    "df23.describe(include=\"all\")"
   ]
  },
  {
   "cell_type": "code",
   "execution_count": null,
   "id": "7f050dd9-5617-4ba7-b604-f1a9fcc70bcb",
   "metadata": {
    "tags": []
   },
   "outputs": [],
   "source": [
    "df_open.head(2)"
   ]
  },
  {
   "cell_type": "code",
   "execution_count": null,
   "id": "17672101-4404-4abe-ad59-0e09fff796eb",
   "metadata": {
    "tags": []
   },
   "outputs": [],
   "source": [
    "df_open.info()"
   ]
  },
  {
   "cell_type": "code",
   "execution_count": null,
   "id": "e8f5d0f8-bdcd-43f2-9d7c-6b53efbd64c2",
   "metadata": {
    "tags": []
   },
   "outputs": [],
   "source": [
    "df_open.describe()"
   ]
  },
  {
   "cell_type": "code",
   "execution_count": null,
   "id": "5c41857c-8f36-414f-8509-9be988b66fb0",
   "metadata": {
    "tags": []
   },
   "outputs": [],
   "source": [
    "df_open.describe(include=\"all\")"
   ]
  },
  {
   "cell_type": "code",
   "execution_count": null,
   "id": "c0ea1687-fe45-4945-8b0e-a5bda8eada7a",
   "metadata": {
    "tags": []
   },
   "outputs": [],
   "source": [
    "# boxplot of minimums nights for october 2022 and 2023\n",
    "\n",
    "x1 = df22[\"minimum_nights\"][df22[\"minimum_nights\"]<=100]\n",
    "x2 = df23[\"minimum_nights\"][df23[\"minimum_nights\"]<=100]\n",
    "\n",
    "# df22[\"minimum_nights\"][df22[\"minimum_nights\"]<=100].plot.box()\n",
    "# df23[\"minimum_nights\"][df23[\"minimum_nights\"]<=100].plot.box()\n",
    "\n",
    "plt.boxplot([x1, x2])\n",
    "plt.xticks([1, 2], labels= [\"2022\", \"2023\"])"
   ]
  },
  {
   "cell_type": "code",
   "execution_count": null,
   "id": "5e013278-6c32-44c4-9dcf-151114daa4aa",
   "metadata": {
    "tags": []
   },
   "outputs": [],
   "source": [
    "display(df22[\"minimum_nights\"].count())\n",
    "display(df23[\"minimum_nights\"].count())\n",
    "display(df22[\"minimum_nights\"][df22[\"minimum_nights\"]!=30].count())\n",
    "display(df22[\"minimum_nights\"][df22[\"minimum_nights\"]==30].count())\n",
    "display(df23[\"minimum_nights\"][df23[\"minimum_nights\"]!=30].count())\n",
    "display(df23[\"minimum_nights\"][df23[\"minimum_nights\"]==30].count())\n",
    "\n",
    "total22 = df22[\"minimum_nights\"].count()\n",
    "total23 = df23[\"minimum_nights\"].count()\n",
    "count30_22 = df22[\"minimum_nights\"][df22[\"minimum_nights\"]==30].count() \n",
    "morethan30_22 = df22[\"minimum_nights\"][df22[\"minimum_nights\"]>=30].count() \n",
    "count30_23 = df23[\"minimum_nights\"][df23[\"minimum_nights\"]==30].count()\n",
    "morethan30_23 = df23[\"minimum_nights\"][df23[\"minimum_nights\"]>=30].count()\n",
    "\n",
    "ratio30_22 = count30_22/total22\n",
    "ratio30_23 = count30_23/total23\n",
    "ratiomore30_22 = morethan30_22/total22\n",
    "ratiomore30_23 = morethan30_23/total23\n",
    "\n",
    "print(f\"In 2022: There were {count30_22} listings for a minimum of 30 days, {round(ratio30_22 * 100, 1)}% of total listings\")\n",
    "print(f\"In 2023: There are {count30_23} listings for a minimum of 30 days, {round(ratio30_23 * 100, 1)}% of total listings\")\n",
    "print(f\"In 2022: There were {morethan30_22} listings for a minimum of 30 days or more, {round(ratiomore30_22 * 100, 1)}% of total\")\n",
    "print(f\"In 2022: There were {morethan30_23} listings for a minimum of 30 days or more, {round(ratiomore30_23 * 100, 1)}% of total\")\n",
    "      "
   ]
  }
 ],
 "metadata": {
  "kernelspec": {
   "display_name": "Python 3 (ipykernel)",
   "language": "python",
   "name": "python3"
  },
  "language_info": {
   "codemirror_mode": {
    "name": "ipython",
    "version": 3
   },
   "file_extension": ".py",
   "mimetype": "text/x-python",
   "name": "python",
   "nbconvert_exporter": "python",
   "pygments_lexer": "ipython3",
   "version": "3.11.4"
  }
 },
 "nbformat": 4,
 "nbformat_minor": 5
}
