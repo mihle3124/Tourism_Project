{
 "cells": [
  {
   "cell_type": "code",
   "execution_count": null,
   "id": "5055653d-d330-48b4-a9bb-dcb4d3d5f864",
   "metadata": {
    "tags": []
   },
   "outputs": [],
   "source": [
    "# Dependencies and Setup\n",
    "import matplotlib.pyplot as plt\n",
    "import pandas as pd\n",
    "import numpy as np\n",
    "import csv"
   ]
  },
  {
   "cell_type": "code",
   "execution_count": null,
   "id": "d1823bb8-2964-48d0-ba08-98273eeb6516",
   "metadata": {
    "tags": []
   },
   "outputs": [],
   "source": [
    "# Load cleaned listings csv's for Oct 2022 and 2023\n",
    "l_df23 = pd.read_csv(\"../listings_oct_2023_clean.csv\")\n",
    "l_df22 = pd.read_csv(\"../listings_oct_2022_clean.csv\")"
   ]
  },
  {
   "cell_type": "code",
   "execution_count": null,
   "id": "5a6364fe-e021-4018-8f3f-37bb903cca50",
   "metadata": {
    "tags": []
   },
   "outputs": [],
   "source": [
    "l_df23.columns"
   ]
  },
  {
   "cell_type": "code",
   "execution_count": null,
   "id": "2a273079-1903-4552-a267-dea11eadd5b3",
   "metadata": {
    "tags": []
   },
   "outputs": [],
   "source": [
    "display(l_df23[\"license\"].value_counts().tail(5))\n",
    "display(l_df23[\"license\"].count())"
   ]
  },
  {
   "cell_type": "code",
   "execution_count": null,
   "id": "94d7c95a-8f76-4875-8d00-b493eeeab734",
   "metadata": {
    "tags": []
   },
   "outputs": [],
   "source": [
    "l_df22.info()"
   ]
  },
  {
   "cell_type": "code",
   "execution_count": null,
   "id": "e5a3f359-d519-4650-b99f-8213d2810fe7",
   "metadata": {
    "tags": []
   },
   "outputs": [],
   "source": [
    "# Build Dataframe to analyze minimum night listings\n",
    "# Create bins\n",
    "bins = [\"1-29\",\"30\",\"30+\"]\n",
    "dfs = [l_df22, l_df23]\n",
    "year = [\"Before Ban - 2022\", \"After Ban - 2023\"]\n",
    "min_nights_df = pd.DataFrame()\n",
    "\n",
    "min_nights_df[\"Minimum Nights\"] = bins \n",
    "min_nights_df[\"Before Ban - 2022\"] = \"\"\n",
    "min_nights_df[\"After Ban - 2023\"] = \"\"\n",
    "        \n",
    "for i in range(len(dfs)):\n",
    "    #min_nights_df[year[i]][0] = dfs[i][\"minimum_nights\"][dfs[i][\"minimum_nights\"]==0].count()\n",
    "    min_nights_df[year[i]][0] = dfs[i][\"minimum_nights\"][(dfs[i][\"minimum_nights\"]>=1) & (dfs[i][\"minimum_nights\"]<30)].count()\n",
    "    min_nights_df[year[i]][1] = dfs[i][\"minimum_nights\"][dfs[i][\"minimum_nights\"]==30].count()\n",
    "    min_nights_df[year[i]][2] = dfs[i][\"minimum_nights\"][dfs[i][\"minimum_nights\"]>30].count()\n",
    "    \n",
    "min_nights_df.head()"
   ]
  },
  {
   "cell_type": "code",
   "execution_count": null,
   "id": "64a64aa8-e8b5-4310-b057-f90ce9eafe21",
   "metadata": {
    "tags": []
   },
   "outputs": [],
   "source": [
    "min_nights_df = min_nights_df.astype({\"Before Ban - 2022\": int, \"After Ban - 2023\": int})\n",
    "\n",
    "min_nights_df.info()"
   ]
  },
  {
   "cell_type": "code",
   "execution_count": null,
   "id": "e635c06d-e0ee-4db9-9a24-a54478f338ee",
   "metadata": {
    "tags": []
   },
   "outputs": [],
   "source": [
    "# side by side boxplot\n",
    "min_nights_df.plot(x=\"Minimum Nights\", y=[\"Before Ban - 2022\",\"After Ban - 2023\"], kind=\"bar\", title=\"Listings by Minimum Nights\", alpha=.75,\n",
    "                  color=['tab:blue','tab:orange'], figsize=(6.4,5.2))\n",
    "plt.ylabel(\"Count\")\n",
    "plt.xticks(rotation=\"horizontal\")\n",
    "\n",
    "plt.tight_layout()\n",
    "\n",
    "plt.savefig(\"min_night_listings.png\")\n",
    "\n",
    "plt.show()"
   ]
  },
  {
   "cell_type": "code",
   "execution_count": null,
   "id": "1512b9cd-83d3-4203-8bb2-37363be2b727",
   "metadata": {
    "tags": []
   },
   "outputs": [],
   "source": [
    "# Create dataframes for boxplots\n",
    "x1 = l_df22[\"minimum_nights\"][l_df22[\"minimum_nights\"]<=100]\n",
    "x2 = l_df23[\"minimum_nights\"][l_df23[\"minimum_nights\"]<=100]\n"
   ]
  },
  {
   "cell_type": "code",
   "execution_count": null,
   "id": "d7b4b03d-3ad4-4f22-80da-c7f212dea32f",
   "metadata": {
    "tags": []
   },
   "outputs": [],
   "source": [
    "# Boxplots of minimum nights\n",
    "ax = plt.boxplot([x1, x2], showmeans=True)\n",
    "plt.xticks(ticks=[1, 2], labels= [\"Before Ban - 2022\", \"After Ban - 2023\"])\n",
    "plt.title(\"Listings by Minimum Nights\")\n",
    "plt.setp(ax['fliers'], markersize=.5, alpha=.5)\n",
    "\n",
    "plt.show()"
   ]
  },
  {
   "cell_type": "code",
   "execution_count": null,
   "id": "e948d4fc-7e0e-4ad9-8414-7586bde50318",
   "metadata": {
    "tags": []
   },
   "outputs": [],
   "source": [
    "l_df22.columns"
   ]
  },
  {
   "cell_type": "code",
   "execution_count": null,
   "id": "a9c072c3-a874-4553-b7bb-56b85c62e412",
   "metadata": {
    "tags": []
   },
   "outputs": [],
   "source": [
    "# Group the neighbourhood-groups(Boroughs) and find the average review rating for short term rentals\n",
    "ratings_short_term_df22 = l_df22[[\"neighbourhood_group_cleansed\",\"review_scores_rating\"]][l_df22[\"minimum_nights\"]<30]\n",
    "ratings_short_term_df23 = l_df23[[\"neighbourhood_group_cleansed\",\"review_scores_rating\"]][l_df23[\"minimum_nights\"]<30]\n",
    "\n",
    "rst_df22 = ratings_short_term_df22\n",
    "rst_df23 = ratings_short_term_df23\n",
    "\n",
    "# Find average and group by neighborhood group\n",
    "rst_avg_df22 = rst_df22.groupby(\"neighbourhood_group_cleansed\").mean()\n",
    "rst_avg_df23 = rst_df23.groupby(\"neighbourhood_group_cleansed\").mean()\n",
    "\n",
    "# Rename the columns\n",
    "rst_avg_df22.columns = [\"2022\"]\n",
    "rst_avg_df23.columns = [\"2023\"]\n",
    "\n",
    "# Merge dataframes\n",
    "rst_avg_df = rst_avg_df22\n",
    "# Add 2023 column\n",
    "rst_avg_df[\"2023\"] = rst_avg_df23\n",
    "\n",
    "display(rst_avg_df)"
   ]
  },
  {
   "cell_type": "code",
   "execution_count": null,
   "id": "e49e968f-65b4-4500-ac70-12b0c8dc0217",
   "metadata": {
    "tags": []
   },
   "outputs": [],
   "source": [
    "# Plot average review rating\n",
    "lines = rst_avg_df.plot.line(alpha=.5, marker=\".\", markersize=10)\n",
    "\n",
    "\n",
    "plt.show()"
   ]
  },
  {
   "cell_type": "code",
   "execution_count": null,
   "id": "09287679-20a8-4164-abc7-69f27dc15011",
   "metadata": {
    "tags": []
   },
   "outputs": [],
   "source": [
    "# Group the neighbourhoods and find the average review rating for short term rentals\n",
    "ratings_short_term_df22 = l_df22[[\"neighbourhood_cleansed\",\"review_scores_rating\"]][l_df22[\"minimum_nights\"]<30]\n",
    "ratings_short_term_df23 = l_df23[[\"neighbourhood_cleansed\",\"review_scores_rating\"]][l_df23[\"minimum_nights\"]<30]\n",
    "\n",
    "rst_df22 = ratings_short_term_df22\n",
    "rst_df23 = ratings_short_term_df23\n",
    "\n",
    "# Find average and group by neighborhood group\n",
    "rst_avg_df22 = rst_df22.groupby(\"neighbourhood_cleansed\").mean()\n",
    "rst_avg_df23 = rst_df23.groupby(\"neighbourhood_cleansed\").mean()\n",
    "\n",
    "# Rename the columns\n",
    "rst_avg_df22.columns = [\"2022\"]\n",
    "rst_avg_df23.columns = [\"2023\"]\n",
    "\n",
    "# Merge dataframes\n",
    "rst_avg_df_n = rst_avg_df22\n",
    "# Add 2023 column\n",
    "rst_avg_df_n[\"2023\"] = rst_avg_df23\n",
    "\n",
    "display(rst_avg_df_n.describe())"
   ]
  },
  {
   "cell_type": "code",
   "execution_count": null,
   "id": "83aa8eb2-590f-45be-8c6e-207cda868503",
   "metadata": {
    "tags": []
   },
   "outputs": [],
   "source": [
    "# Plot neighborhood count pre/post ban for short term rentals\n",
    "st_listing_count_22 = rst_avg_df_n[\"2022\"].count()\n",
    "st_listing_count_23 = rst_avg_df_n[\"2023\"].count()\n",
    "short_term_listing_count = [st_listing_count_23, st_listing_count_22]\n",
    "x = [\"After Ban\", \"Before Ban\"]\n",
    "\n",
    "print(\"There are 121 neighborhoods that no longer have any short term airbnb listings!!!\")\n",
    "plt.style.use('ggplot')\n",
    "plt.figure(figsize=[7,1.5], layout='constrained', edgecolor='r')\n",
    "plt.barh(x, short_term_listing_count, height=.6, align=\"center\", color=['tab:orange','tab:blue'], \n",
    "         alpha=.75, )\n",
    "plt.title(\"121 Fewer Neighborhoods Have Short Term\\n Airbnb Listings!\")\n",
    "# plt.xlabel(\"Count\")\n",
    "\n",
    "for index, value in enumerate(short_term_listing_count):\n",
    "    plt.text(value, index,\n",
    "             str(value), horizontalalignment='right', verticalalignment='center')\n",
    "\n",
    "plt.tight_layout()\n",
    "    \n",
    "plt.savefig(\"neighborhoods_st_listings.png\")    \n",
    "    \n",
    "plt.show()\n"
   ]
  },
  {
   "cell_type": "code",
   "execution_count": null,
   "id": "1684ade3-138c-4924-a1ab-9cb2edc88095",
   "metadata": {
    "tags": []
   },
   "outputs": [],
   "source": [
    "# Plot neighborhood count pre/post ban for short term rentals\n",
    "st_listing_count_22 = rst_avg_df_n[\"2022\"].count()\n",
    "st_listing_count_23 = rst_avg_df_n[\"2023\"].count() \n",
    "short_term_listing_count = [st_listing_count_22, st_listing_count_23]\n",
    "x = [\"Before Ban - 2022\", \"After Ban - 2023\"]\n",
    "\n",
    "print(\"There are 121 neighborhoods that no longer have any short term airbnb listings!!!\")\n",
    "\n",
    "plt.bar(x=x, height=short_term_listing_count)\n",
    "plt.title(\"Neighborhoods with Short Term Listings (less than 30 days)\")\n",
    "\n",
    "# for index, value in enumerate(short_term_listing_count):\n",
    "#     plt.text(value, index,\n",
    "#              str(value))\n",
    "\n",
    "plt.show()\n"
   ]
  },
  {
   "cell_type": "code",
   "execution_count": null,
   "id": "8c895353-56b4-4088-9398-83df3070d8fa",
   "metadata": {
    "tags": []
   },
   "outputs": [],
   "source": [
    "l_df23.columns"
   ]
  },
  {
   "cell_type": "code",
   "execution_count": null,
   "id": "e081d79a-ac31-48dd-8d10-4b835b5605d8",
   "metadata": {
    "tags": []
   },
   "outputs": [],
   "source": [
    "# Licenses\n",
    "licenses_22 = l_df22[[\"license\"]][l_df22[\"minimum_nights\"]<30].count()\n",
    "licenses_23 = l_df23[[\"license\"]][l_df23[\"minimum_nights\"]<30].count()\n",
    "total_short_term_listings_23 = l_df23[\"license\"].count()\n",
    "\n",
    "display(licenses_df22)\n",
    "display(licenses_df23)"
   ]
  },
  {
   "cell_type": "code",
   "execution_count": null,
   "id": "4c092631-f119-43f0-a170-1abe7ab11bbe",
   "metadata": {
    "tags": []
   },
   "outputs": [],
   "source": [
    "licenses_22[0]"
   ]
  },
  {
   "cell_type": "code",
   "execution_count": null,
   "id": "790704fa-86f3-49ce-8bf0-2c879b719013",
   "metadata": {
    "tags": []
   },
   "outputs": [],
   "source": [
    "plt.figure(figsize=[10,1.5], layout='constrained', edgecolor='r')\n",
    "licenses = [licenses_22[0], licenses_23[0]]\n",
    "x = [\"Before Ban - 2022\", \"After Ban - 2023\"]\n",
    "ax = plt.barh(x, licenses, height=.6, align=\"center\", color=['tab:orange','tab:blue'], \n",
    "         alpha=.8)\n",
    "ax = plt.barh(\"After Ban - 2023\", total_short_term_listings_23, alpha=.5)\n",
    "plt.title(\"Exemptions and Licenses Issued(total short term listings in light blue)\")\n",
    "plt.xlabel(\"Count\")\n",
    "plt.xscale(\"linear\")\n",
    "\n",
    "for index, value in enumerate(licenses):\n",
    "    plt.text(value, index,\n",
    "             str(value), horizontalalignment='right', verticalalignment='center')\n",
    "    \n",
    "plt.show()"
   ]
  },
  {
   "cell_type": "code",
   "execution_count": null,
   "id": "dc1bdde6-07dd-4c5d-bdbb-7027bd225df6",
   "metadata": {
    "tags": []
   },
   "outputs": [],
   "source": [
    "plt.rcParams[\"figure.figsize\"] = [7, 2]\n",
    "# plt.rcParams[\"figure.autolayout\"] = True\n",
    "\n",
    "ban = [\"After_Ban\"]\n",
    "licenses_issued = [licenses_23[0]]\n",
    "total_short_term = [total_short_term_listings_23-licenses_23[0]]\n",
    "\n",
    "b1 = plt.barh(ban, licenses_issued, color=\"tab:blue\", alpha=.75)\n",
    "\n",
    "b2 = plt.barh(ban, total_short_term, left=licenses_issued, color=\"tab:orange\", alpha=.75)\n",
    "\n",
    "plt.legend([b1, b2], [\"Licensed\", \"Not Licensed\"], title=\"Short Term Listings\", loc=\"center right\")\n",
    "\n",
    "plt.xlim((0, 4000))\n",
    "plt.title(\"95% of Short Term Rentals are Licensed\")\n",
    "\n",
    "plt.savefig(\"ban_compliance.png\")\n",
    "\n",
    "plt.show()"
   ]
  },
  {
   "cell_type": "code",
   "execution_count": null,
   "id": "6ee0fbb6-ecf9-4530-abae-b7ec7bdaab52",
   "metadata": {},
   "outputs": [],
   "source": [
    "plt.rcParams[\"figure.figsize\"] = [7.50, 3.50]\n",
    "plt.rcParams[\"figure.autolayout\"] = True\n",
    "\n",
    "year = [2014, 2015, 2016, 2017, 2018, 2019]\n",
    "issues_addressed = [10, 14, 0, 10, 15, 15]\n",
    "issues_pending = [5, 10, 50, 2, 0, 10]\n",
    "\n",
    "b1 = plt.barh(year, issues_addressed, color=\"red\")\n",
    "\n",
    "b2 = plt.barh(year, issues_pending, left=issues_addressed, color=\"yellow\")\n",
    "\n",
    "plt.legend([b1, b2], [\"Completed\", \"Pending\"], title=\"Issues\", loc=\"upper right\")\n",
    "\n",
    "plt.show()"
   ]
  },
  {
   "cell_type": "code",
   "execution_count": null,
   "id": "791cb12e-b54b-4d79-9d8a-e3b92556ccb3",
   "metadata": {
    "tags": []
   },
   "outputs": [],
   "source": [
    "# Pie chart for Licenses\n",
    "exempt = licenses_23[0]\n",
    "non_exempt = total_short_term_listings_23 - licenses_23[0]\n",
    "licenses_df = pd.DataFrame({\"compliance\": [\"licensed\", \"not licensed\"], \"Compliance\": [exempt, non_exempt]})\n",
    "licenses_df = licenses_df.set_index(\"compliance\")\n",
    "\n",
    "\n",
    "# licenses_df\n",
    "explode = [0, 0.05]\n",
    "\n",
    "plt.style.use('ggplot')\n",
    "ax=licenses_df.plot(kind='pie', y=\"Compliance\", sharey=False, startangle=279, radius=.95, explode=explode, autopct = '%1.f%%', figsize=(7,7),\n",
    "                          legend=True, fontsize=14, ylabel=\"\", labeldistance=None, pctdistance=.9, colors=(\"tab:blue\",\"tab:orange\"), wedgeprops={'alpha':0.75})\n",
    "# ax.set_facecolor('lightgrey')\n",
    "ax.legend(loc=\"lower right\", fontsize=14)\n",
    "ax.set_title(\"Compliance with the NYC Ban\", fontsize=18)\n",
    "\n",
    "plt.tight_layout()\n",
    "\n",
    "plt.savefig(\"ban_compliance2.png\")\n",
    "\n",
    "plt.show()"
   ]
  }
 ],
 "metadata": {
  "kernelspec": {
   "display_name": "Python 3 (ipykernel)",
   "language": "python",
   "name": "python3"
  },
  "language_info": {
   "codemirror_mode": {
    "name": "ipython",
    "version": 3
   },
   "file_extension": ".py",
   "mimetype": "text/x-python",
   "name": "python",
   "nbconvert_exporter": "python",
   "pygments_lexer": "ipython3",
   "version": "3.11.4"
  }
 },
 "nbformat": 4,
 "nbformat_minor": 5
}
