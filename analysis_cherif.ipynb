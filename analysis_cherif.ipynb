{
 "cells": [
  {
   "cell_type": "code",
   "execution_count": 1,
   "id": "5055653d-d330-48b4-a9bb-dcb4d3d5f864",
   "metadata": {
    "tags": []
   },
   "outputs": [],
   "source": [
    "# Dependencies and Setup\n",
    "import matplotlib.pyplot as plt\n",
    "import pandas as pd\n",
    "import numpy as np\n",
    "import csv"
   ]
  },
  {
   "cell_type": "code",
   "execution_count": 2,
   "id": "d1823bb8-2964-48d0-ba08-98273eeb6516",
   "metadata": {
    "tags": []
   },
   "outputs": [],
   "source": [
    "# Load cleaned listings csv's for Oct 2022 and 2023\n",
    "l_df23 = pd.read_csv(\"../listings_oct_2023_clean.csv\")\n",
    "l_df22 = pd.read_csv(\"../listings_oct_2022_clean.csv\")"
   ]
  },
  {
   "cell_type": "code",
   "execution_count": 3,
   "id": "5a6364fe-e021-4018-8f3f-37bb903cca50",
   "metadata": {
    "tags": []
   },
   "outputs": [
    {
     "data": {
      "text/plain": [
       "Index(['Unnamed: 0', 'id', 'host_id', 'host_listings_count',\n",
       "       'neighbourhood_cleansed', 'neighbourhood_group_cleansed', 'latitude',\n",
       "       'longitude', 'property_type', 'room_type', 'accommodates', 'amenities',\n",
       "       'minimum_nights', 'minimum_minimum_nights', 'review_scores_rating',\n",
       "       'review_scores_location', 'license', 'reviews_per_month'],\n",
       "      dtype='object')"
      ]
     },
     "execution_count": 3,
     "metadata": {},
     "output_type": "execute_result"
    }
   ],
   "source": [
    "l_df23.columns"
   ]
  },
  {
   "cell_type": "code",
   "execution_count": 4,
   "id": "94d7c95a-8f76-4875-8d00-b493eeeab734",
   "metadata": {
    "tags": []
   },
   "outputs": [
    {
     "name": "stdout",
     "output_type": "stream",
     "text": [
      "<class 'pandas.core.frame.DataFrame'>\n",
      "RangeIndex: 40545 entries, 0 to 40544\n",
      "Data columns (total 18 columns):\n",
      " #   Column                        Non-Null Count  Dtype  \n",
      "---  ------                        --------------  -----  \n",
      " 0   Unnamed: 0                    40545 non-null  int64  \n",
      " 1   id                            40545 non-null  int64  \n",
      " 2   host_id                       40545 non-null  int64  \n",
      " 3   host_listings_count           40522 non-null  float64\n",
      " 4   neighbourhood_cleansed        40545 non-null  object \n",
      " 5   neighbourhood_group_cleansed  40545 non-null  object \n",
      " 6   latitude                      40545 non-null  float64\n",
      " 7   longitude                     40545 non-null  float64\n",
      " 8   property_type                 40545 non-null  object \n",
      " 9   room_type                     40545 non-null  object \n",
      " 10  accommodates                  40545 non-null  int64  \n",
      " 11  amenities                     40545 non-null  object \n",
      " 12  minimum_nights                40545 non-null  int64  \n",
      " 13  minimum_minimum_nights        40531 non-null  float64\n",
      " 14  review_scores_rating          32155 non-null  float64\n",
      " 15  review_scores_location        31689 non-null  float64\n",
      " 16  license                       5 non-null      object \n",
      " 17  reviews_per_month             32155 non-null  float64\n",
      "dtypes: float64(7), int64(5), object(6)\n",
      "memory usage: 5.6+ MB\n"
     ]
    }
   ],
   "source": [
    "l_df22.info()"
   ]
  },
  {
   "cell_type": "code",
   "execution_count": 5,
   "id": "e5a3f359-d519-4650-b99f-8213d2810fe7",
   "metadata": {
    "tags": []
   },
   "outputs": [
    {
     "data": {
      "text/html": [
       "<div>\n",
       "<style scoped>\n",
       "    .dataframe tbody tr th:only-of-type {\n",
       "        vertical-align: middle;\n",
       "    }\n",
       "\n",
       "    .dataframe tbody tr th {\n",
       "        vertical-align: top;\n",
       "    }\n",
       "\n",
       "    .dataframe thead th {\n",
       "        text-align: right;\n",
       "    }\n",
       "</style>\n",
       "<table border=\"1\" class=\"dataframe\">\n",
       "  <thead>\n",
       "    <tr style=\"text-align: right;\">\n",
       "      <th></th>\n",
       "      <th>Minimum Nights</th>\n",
       "      <th>2022</th>\n",
       "      <th>2023</th>\n",
       "    </tr>\n",
       "  </thead>\n",
       "  <tbody>\n",
       "    <tr>\n",
       "      <th>0</th>\n",
       "      <td>0</td>\n",
       "      <td>0</td>\n",
       "      <td>0</td>\n",
       "    </tr>\n",
       "    <tr>\n",
       "      <th>1</th>\n",
       "      <td>1-29</td>\n",
       "      <td>21314</td>\n",
       "      <td>3227</td>\n",
       "    </tr>\n",
       "    <tr>\n",
       "      <th>2</th>\n",
       "      <td>30</td>\n",
       "      <td>17256</td>\n",
       "      <td>33273</td>\n",
       "    </tr>\n",
       "    <tr>\n",
       "      <th>3</th>\n",
       "      <td>30+</td>\n",
       "      <td>1975</td>\n",
       "      <td>2292</td>\n",
       "    </tr>\n",
       "  </tbody>\n",
       "</table>\n",
       "</div>"
      ],
      "text/plain": [
       "  Minimum Nights   2022   2023\n",
       "0              0      0      0\n",
       "1           1-29  21314   3227\n",
       "2             30  17256  33273\n",
       "3            30+   1975   2292"
      ]
     },
     "execution_count": 5,
     "metadata": {},
     "output_type": "execute_result"
    }
   ],
   "source": [
    "# Build Dataframe to analyze minimum night listings\n",
    "# Create bins\n",
    "bins = [\"0\",\"1-29\",\"30\",\"30+\"]\n",
    "dfs = [l_df22, l_df23]\n",
    "year = [\"2022\", \"2023\"]\n",
    "min_nights_df = pd.DataFrame()\n",
    "\n",
    "min_nights_df[\"Minimum Nights\"] = bins \n",
    "min_nights_df[\"2022\"] = \"\"\n",
    "min_nights_df[\"2023\"] = \"\"\n",
    "        \n",
    "for i in range(len(dfs)):\n",
    "    min_nights_df[year[i]][0] = dfs[i][\"minimum_nights\"][dfs[i][\"minimum_nights\"]==0].count()\n",
    "    min_nights_df[year[i]][1] = dfs[i][\"minimum_nights\"][(dfs[i][\"minimum_nights\"]>=1) & (dfs[i][\"minimum_nights\"]<30)].count()\n",
    "    min_nights_df[year[i]][2] = dfs[i][\"minimum_nights\"][dfs[i][\"minimum_nights\"]==30].count()\n",
    "    min_nights_df[year[i]][3] = dfs[i][\"minimum_nights\"][dfs[i][\"minimum_nights\"]>30].count()\n",
    "    \n",
    "min_nights_df.head()"
   ]
  },
  {
   "cell_type": "code",
   "execution_count": null,
   "id": "d7b4b03d-3ad4-4f22-80da-c7f212dea32f",
   "metadata": {},
   "outputs": [],
   "source": []
  }
 ],
 "metadata": {
  "kernelspec": {
   "display_name": "Python 3 (ipykernel)",
   "language": "python",
   "name": "python3"
  },
  "language_info": {
   "codemirror_mode": {
    "name": "ipython",
    "version": 3
   },
   "file_extension": ".py",
   "mimetype": "text/x-python",
   "name": "python",
   "nbconvert_exporter": "python",
   "pygments_lexer": "ipython3",
   "version": "3.10.13"
  }
 },
 "nbformat": 4,
 "nbformat_minor": 5
}
