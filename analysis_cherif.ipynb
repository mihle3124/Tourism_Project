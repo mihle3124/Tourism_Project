{
 "cells": [
  {
   "cell_type": "code",
   "execution_count": null,
   "id": "5055653d-d330-48b4-a9bb-dcb4d3d5f864",
   "metadata": {
    "tags": []
   },
   "outputs": [],
   "source": [
    "# Dependencies and Setup\n",
    "import matplotlib.pyplot as plt\n",
    "import pandas as pd\n",
    "import numpy as np\n",
    "import csv"
   ]
  },
  {
   "cell_type": "code",
   "execution_count": 2,
   "id": "d1823bb8-2964-48d0-ba08-98273eeb6516",
   "metadata": {
    "tags": []
   },
   "outputs": [],
   "source": [
    "# Load cleaned listings csv's for Oct 2022 and 2023\n",
    "l_df23 = pd.read_csv(\"../listings_oct_2023_clean.csv\")\n",
    "l_df22 = pd.read_csv(\"../listings_oct_2022_clean.csv\")"
   ]
  },
  {
   "cell_type": "code",
   "execution_count": 3,
   "id": "5a6364fe-e021-4018-8f3f-37bb903cca50",
   "metadata": {
    "tags": []
   },
   "outputs": [
    {
     "data": {
      "text/plain": [
       "Index(['Unnamed: 0', 'id', 'host_id', 'host_listings_count',\n",
       "       'neighbourhood_cleansed', 'neighbourhood_group_cleansed', 'latitude',\n",
       "       'longitude', 'property_type', 'price', 'room_type', 'accommodates',\n",
       "       'amenities', 'minimum_nights', 'minimum_minimum_nights',\n",
       "       'review_scores_rating', 'review_scores_location', 'license',\n",
       "       'reviews_per_month'],\n",
       "      dtype='object')"
      ]
     },
     "execution_count": 3,
     "metadata": {},
     "output_type": "execute_result"
    }
   ],
   "source": [
    "l_df23.columns"
   ]
  },
  {
   "cell_type": "code",
   "execution_count": 4,
   "id": "94d7c95a-8f76-4875-8d00-b493eeeab734",
   "metadata": {
    "tags": []
   },
   "outputs": [
    {
     "name": "stdout",
     "output_type": "stream",
     "text": [
      "<class 'pandas.core.frame.DataFrame'>\n",
      "RangeIndex: 40545 entries, 0 to 40544\n",
      "Data columns (total 19 columns):\n",
      " #   Column                        Non-Null Count  Dtype  \n",
      "---  ------                        --------------  -----  \n",
      " 0   Unnamed: 0                    40545 non-null  int64  \n",
      " 1   id                            40545 non-null  int64  \n",
      " 2   host_id                       40545 non-null  int64  \n",
      " 3   host_listings_count           40522 non-null  float64\n",
      " 4   neighbourhood_cleansed        40545 non-null  object \n",
      " 5   neighbourhood_group_cleansed  40545 non-null  object \n",
      " 6   latitude                      40545 non-null  float64\n",
      " 7   longitude                     40545 non-null  float64\n",
      " 8   property_type                 40545 non-null  object \n",
      " 9   price                         40545 non-null  object \n",
      " 10  room_type                     40545 non-null  object \n",
      " 11  accommodates                  40545 non-null  int64  \n",
      " 12  amenities                     40545 non-null  object \n",
      " 13  minimum_nights                40545 non-null  int64  \n",
      " 14  minimum_minimum_nights        40531 non-null  float64\n",
      " 15  review_scores_rating          32155 non-null  float64\n",
      " 16  review_scores_location        31689 non-null  float64\n",
      " 17  license                       5 non-null      object \n",
      " 18  reviews_per_month             32155 non-null  float64\n",
      "dtypes: float64(7), int64(5), object(7)\n",
      "memory usage: 5.9+ MB\n"
     ]
    }
   ],
   "source": [
    "l_df22.info()"
   ]
  },
  {
   "cell_type": "code",
   "execution_count": 5,
   "id": "e5a3f359-d519-4650-b99f-8213d2810fe7",
   "metadata": {
    "tags": []
   },
   "outputs": [
    {
     "data": {
      "text/html": [
       "<div>\n",
       "<style scoped>\n",
       "    .dataframe tbody tr th:only-of-type {\n",
       "        vertical-align: middle;\n",
       "    }\n",
       "\n",
       "    .dataframe tbody tr th {\n",
       "        vertical-align: top;\n",
       "    }\n",
       "\n",
       "    .dataframe thead th {\n",
       "        text-align: right;\n",
       "    }\n",
       "</style>\n",
       "<table border=\"1\" class=\"dataframe\">\n",
       "  <thead>\n",
       "    <tr style=\"text-align: right;\">\n",
       "      <th></th>\n",
       "      <th>Minimum Nights</th>\n",
       "      <th>Before Ban - 2022</th>\n",
       "      <th>After Ban - 2023</th>\n",
       "    </tr>\n",
       "  </thead>\n",
       "  <tbody>\n",
       "    <tr>\n",
       "      <th>0</th>\n",
       "      <td>1-29</td>\n",
       "      <td>21314</td>\n",
       "      <td>3227</td>\n",
       "    </tr>\n",
       "    <tr>\n",
       "      <th>1</th>\n",
       "      <td>30</td>\n",
       "      <td>17256</td>\n",
       "      <td>33273</td>\n",
       "    </tr>\n",
       "    <tr>\n",
       "      <th>2</th>\n",
       "      <td>30+</td>\n",
       "      <td>1975</td>\n",
       "      <td>2292</td>\n",
       "    </tr>\n",
       "  </tbody>\n",
       "</table>\n",
       "</div>"
      ],
      "text/plain": [
       "  Minimum Nights Before Ban - 2022 After Ban - 2023\n",
       "0           1-29             21314             3227\n",
       "1             30             17256            33273\n",
       "2            30+              1975             2292"
      ]
     },
     "execution_count": 5,
     "metadata": {},
     "output_type": "execute_result"
    }
   ],
   "source": [
    "# Build Dataframe to analyze minimum night listings\n",
    "# Create bins\n",
    "bins = [\"1-29\",\"30\",\"30+\"]\n",
    "dfs = [l_df22, l_df23]\n",
    "year = [\"Before Ban - 2022\", \"After Ban - 2023\"]\n",
    "min_nights_df = pd.DataFrame()\n",
    "\n",
    "min_nights_df[\"Minimum Nights\"] = bins \n",
    "min_nights_df[\"Before Ban - 2022\"] = \"\"\n",
    "min_nights_df[\"After Ban - 2023\"] = \"\"\n",
    "        \n",
    "for i in range(len(dfs)):\n",
    "    #min_nights_df[year[i]][0] = dfs[i][\"minimum_nights\"][dfs[i][\"minimum_nights\"]==0].count()\n",
    "    min_nights_df[year[i]][0] = dfs[i][\"minimum_nights\"][(dfs[i][\"minimum_nights\"]>=1) & (dfs[i][\"minimum_nights\"]<30)].count()\n",
    "    min_nights_df[year[i]][1] = dfs[i][\"minimum_nights\"][dfs[i][\"minimum_nights\"]==30].count()\n",
    "    min_nights_df[year[i]][2] = dfs[i][\"minimum_nights\"][dfs[i][\"minimum_nights\"]>30].count()\n",
    "    \n",
    "min_nights_df.head()"
   ]
  },
  {
   "cell_type": "code",
   "execution_count": 6,
   "id": "64a64aa8-e8b5-4310-b057-f90ce9eafe21",
   "metadata": {
    "tags": []
   },
   "outputs": [
    {
     "name": "stdout",
     "output_type": "stream",
     "text": [
      "<class 'pandas.core.frame.DataFrame'>\n",
      "RangeIndex: 3 entries, 0 to 2\n",
      "Data columns (total 3 columns):\n",
      " #   Column             Non-Null Count  Dtype \n",
      "---  ------             --------------  ----- \n",
      " 0   Minimum Nights     3 non-null      object\n",
      " 1   Before Ban - 2022  3 non-null      int32 \n",
      " 2   After Ban - 2023   3 non-null      int32 \n",
      "dtypes: int32(2), object(1)\n",
      "memory usage: 180.0+ bytes\n"
     ]
    }
   ],
   "source": [
    "min_nights_df = min_nights_df.astype({\"Before Ban - 2022\": int, \"After Ban - 2023\": int})\n",
    "\n",
    "min_nights_df.info()"
   ]
  },
  {
   "cell_type": "code",
   "execution_count": null,
   "id": "e635c06d-e0ee-4db9-9a24-a54478f338ee",
   "metadata": {
    "tags": []
   },
   "outputs": [],
   "source": [
    "# side by side boxplot\n",
    "min_nights_df.plot(x=\"Minimum Nights\", y=[\"Before Ban - 2022\",\"After Ban - 2023\"], kind=\"bar\", title=\"Listings by Minimum Nights\")\n",
    "plt.ylabel(\"Count\")\n",
    "\n",
    "# plt.savefig(\"min_night_listings\")\n",
    "\n",
    "plt.show()"
   ]
  },
  {
   "cell_type": "code",
   "execution_count": null,
   "id": "602dfd9a-b8a2-4108-b9ea-377a9a4f6963",
   "metadata": {},
   "outputs": [],
   "source": []
  },
  {
   "cell_type": "code",
   "execution_count": 13,
   "id": "1512b9cd-83d3-4203-8bb2-37363be2b727",
   "metadata": {
    "tags": []
   },
   "outputs": [],
   "source": [
    "# Create dataframes for boxplots\n",
    "x1 = l_df22[\"minimum_nights\"][l_df22[\"minimum_nights\"]<=100]\n",
    "x2 = l_df23[\"minimum_nights\"][l_df23[\"minimum_nights\"]<=100]\n"
   ]
  },
  {
   "cell_type": "code",
   "execution_count": 22,
   "id": "d7b4b03d-3ad4-4f22-80da-c7f212dea32f",
   "metadata": {
    "tags": []
   },
   "outputs": [
    {
     "data": {
      "image/png": "[encoded data removed]",
      "text/plain": [
       "<Figure size 640x480 with 1 Axes>"
      ]
     },
     "metadata": {},
     "output_type": "display_data"
    }
   ],
   "source": [
    "# Boxplots of minimum nights\n",
    "ax = plt.boxplot([x1, x2], showmeans=True)\n",
    "plt.xticks(ticks=[1, 2], labels= [\"Before Ban - 2022\", \"After Ban - 2023\"])\n",
    "plt.title(\"Listings by Minimum Nights\")\n",
    "plt.setp(ax['fliers'], markersize=.5, alpha=.5)\n",
    "\n",
    "plt.show()"
   ]
  },
  {
   "cell_type": "code",
   "execution_count": 23,
   "id": "e948d4fc-7e0e-4ad9-8414-7586bde50318",
   "metadata": {
    "tags": []
   },
   "outputs": [
    {
     "data": {
      "text/plain": [
       "Index(['Unnamed: 0', 'id', 'host_id', 'host_listings_count',\n",
       "       'neighbourhood_cleansed', 'neighbourhood_group_cleansed', 'latitude',\n",
       "       'longitude', 'property_type', 'price', 'room_type', 'accommodates',\n",
       "       'amenities', 'minimum_nights', 'minimum_minimum_nights',\n",
       "       'review_scores_rating', 'review_scores_location', 'license',\n",
       "       'reviews_per_month'],\n",
       "      dtype='object')"
      ]
     },
     "execution_count": 23,
     "metadata": {},
     "output_type": "execute_result"
    }
   ],
   "source": [
    "l_df22.columns"
   ]
  },
  {
   "cell_type": "code",
   "execution_count": 41,
   "id": "a9c072c3-a874-4553-b7bb-56b85c62e412",
   "metadata": {
    "tags": []
   },
   "outputs": [
    {
     "data": {
      "text/html": [
       "<div>\n",
       "<style scoped>\n",
       "    .dataframe tbody tr th:only-of-type {\n",
       "        vertical-align: middle;\n",
       "    }\n",
       "\n",
       "    .dataframe tbody tr th {\n",
       "        vertical-align: top;\n",
       "    }\n",
       "\n",
       "    .dataframe thead th {\n",
       "        text-align: right;\n",
       "    }\n",
       "</style>\n",
       "<table border=\"1\" class=\"dataframe\">\n",
       "  <thead>\n",
       "    <tr style=\"text-align: right;\">\n",
       "      <th></th>\n",
       "      <th>2022</th>\n",
       "      <th>2023</th>\n",
       "    </tr>\n",
       "    <tr>\n",
       "      <th>neighbourhood_group_cleansed</th>\n",
       "      <th></th>\n",
       "      <th></th>\n",
       "    </tr>\n",
       "  </thead>\n",
       "  <tbody>\n",
       "    <tr>\n",
       "      <th>Bronx</th>\n",
       "      <td>4.688423</td>\n",
       "      <td>4.432222</td>\n",
       "    </tr>\n",
       "    <tr>\n",
       "      <th>Brooklyn</th>\n",
       "      <td>4.758743</td>\n",
       "      <td>4.803647</td>\n",
       "    </tr>\n",
       "    <tr>\n",
       "      <th>Manhattan</th>\n",
       "      <td>4.680156</td>\n",
       "      <td>4.592987</td>\n",
       "    </tr>\n",
       "    <tr>\n",
       "      <th>Queens</th>\n",
       "      <td>4.706997</td>\n",
       "      <td>4.776994</td>\n",
       "    </tr>\n",
       "    <tr>\n",
       "      <th>Staten Island</th>\n",
       "      <td>4.733104</td>\n",
       "      <td>4.473077</td>\n",
       "    </tr>\n",
       "  </tbody>\n",
       "</table>\n",
       "</div>"
      ],
      "text/plain": [
       "                                  2022      2023\n",
       "neighbourhood_group_cleansed                    \n",
       "Bronx                         4.688423  4.432222\n",
       "Brooklyn                      4.758743  4.803647\n",
       "Manhattan                     4.680156  4.592987\n",
       "Queens                        4.706997  4.776994\n",
       "Staten Island                 4.733104  4.473077"
      ]
     },
     "metadata": {},
     "output_type": "display_data"
    }
   ],
   "source": [
    "# Group the neighbourhood-groups(Boroughs) and find the average review rating for short term rentals\n",
    "ratings_short_term_df22 = l_df22[[\"neighbourhood_group_cleansed\",\"review_scores_rating\"]][l_df22[\"minimum_nights\"]<30]\n",
    "ratings_short_term_df23 = l_df23[[\"neighbourhood_group_cleansed\",\"review_scores_rating\"]][l_df23[\"minimum_nights\"]<30]\n",
    "\n",
    "rst_df22 = ratings_short_term_df22\n",
    "rst_df23 = ratings_short_term_df23\n",
    "\n",
    "# Find average and group by neighborhood group\n",
    "rst_avg_df22 = rst_df22.groupby(\"neighbourhood_group_cleansed\").mean()\n",
    "rst_avg_df23 = rst_df23.groupby(\"neighbourhood_group_cleansed\").mean()\n",
    "\n",
    "# Rename the columns\n",
    "rst_avg_df22.columns = [\"2022\"]\n",
    "rst_avg_df23.columns = [\"2023\"]\n",
    "\n",
    "# Merge dataframes\n",
    "rst_avg_df = rst_avg_df22\n",
    "# Add 2023 column\n",
    "rst_avg_df[\"2023\"] = rst_avg_df23\n",
    "\n",
    "display(rst_avg_df)"
   ]
  },
  {
   "cell_type": "code",
   "execution_count": 45,
   "id": "e49e968f-65b4-4500-ac70-12b0c8dc0217",
   "metadata": {
    "tags": []
   },
   "outputs": [
    {
     "data": {
      "image/png": "[encoded data removed]",
      "text/plain": [
       "<Figure size 640x480 with 1 Axes>"
      ]
     },
     "metadata": {},
     "output_type": "display_data"
    }
   ],
   "source": [
    "# Plot average review rating\n",
    "lines = rst_avg_df.plot.line(alpha=.5, marker=\".\", markersize=10)\n",
    "\n",
    "\n",
    "plt.show()"
   ]
  },
  {
   "cell_type": "code",
   "execution_count": 47,
   "id": "09287679-20a8-4164-abc7-69f27dc15011",
   "metadata": {
    "tags": []
   },
   "outputs": [
    {
     "data": {
      "text/html": [
       "<div>\n",
       "<style scoped>\n",
       "    .dataframe tbody tr th:only-of-type {\n",
       "        vertical-align: middle;\n",
       "    }\n",
       "\n",
       "    .dataframe tbody tr th {\n",
       "        vertical-align: top;\n",
       "    }\n",
       "\n",
       "    .dataframe thead th {\n",
       "        text-align: right;\n",
       "    }\n",
       "</style>\n",
       "<table border=\"1\" class=\"dataframe\">\n",
       "  <thead>\n",
       "    <tr style=\"text-align: right;\">\n",
       "      <th></th>\n",
       "      <th>2022</th>\n",
       "      <th>2023</th>\n",
       "    </tr>\n",
       "  </thead>\n",
       "  <tbody>\n",
       "    <tr>\n",
       "      <th>count</th>\n",
       "      <td>238.000000</td>\n",
       "      <td>117.000000</td>\n",
       "    </tr>\n",
       "    <tr>\n",
       "      <th>mean</th>\n",
       "      <td>4.722653</td>\n",
       "      <td>4.776380</td>\n",
       "    </tr>\n",
       "    <tr>\n",
       "      <th>std</th>\n",
       "      <td>0.144242</td>\n",
       "      <td>0.194615</td>\n",
       "    </tr>\n",
       "    <tr>\n",
       "      <th>min</th>\n",
       "      <td>3.660000</td>\n",
       "      <td>3.791667</td>\n",
       "    </tr>\n",
       "    <tr>\n",
       "      <th>25%</th>\n",
       "      <td>4.667179</td>\n",
       "      <td>4.699286</td>\n",
       "    </tr>\n",
       "    <tr>\n",
       "      <th>50%</th>\n",
       "      <td>4.737083</td>\n",
       "      <td>4.820500</td>\n",
       "    </tr>\n",
       "    <tr>\n",
       "      <th>75%</th>\n",
       "      <td>4.810750</td>\n",
       "      <td>4.915000</td>\n",
       "    </tr>\n",
       "    <tr>\n",
       "      <th>max</th>\n",
       "      <td>5.000000</td>\n",
       "      <td>5.000000</td>\n",
       "    </tr>\n",
       "  </tbody>\n",
       "</table>\n",
       "</div>"
      ],
      "text/plain": [
       "             2022        2023\n",
       "count  238.000000  117.000000\n",
       "mean     4.722653    4.776380\n",
       "std      0.144242    0.194615\n",
       "min      3.660000    3.791667\n",
       "25%      4.667179    4.699286\n",
       "50%      4.737083    4.820500\n",
       "75%      4.810750    4.915000\n",
       "max      5.000000    5.000000"
      ]
     },
     "metadata": {},
     "output_type": "display_data"
    }
   ],
   "source": [
    "# Group the neighbourhoods and find the average review rating for short term rentals\n",
    "ratings_short_term_df22 = l_df22[[\"neighbourhood_cleansed\",\"review_scores_rating\"]][l_df22[\"minimum_nights\"]<30]\n",
    "ratings_short_term_df23 = l_df23[[\"neighbourhood_cleansed\",\"review_scores_rating\"]][l_df23[\"minimum_nights\"]<30]\n",
    "\n",
    "rst_df22 = ratings_short_term_df22\n",
    "rst_df23 = ratings_short_term_df23\n",
    "\n",
    "# Find average and group by neighborhood group\n",
    "rst_avg_df22 = rst_df22.groupby(\"neighbourhood_cleansed\").mean()\n",
    "rst_avg_df23 = rst_df23.groupby(\"neighbourhood_cleansed\").mean()\n",
    "\n",
    "# Rename the columns\n",
    "rst_avg_df22.columns = [\"2022\"]\n",
    "rst_avg_df23.columns = [\"2023\"]\n",
    "\n",
    "# Merge dataframes\n",
    "rst_avg_df_n = rst_avg_df22\n",
    "# Add 2023 column\n",
    "rst_avg_df_n[\"2023\"] = rst_avg_df23\n",
    "\n",
    "display(rst_avg_df_n.describe())"
   ]
  },
  {
   "cell_type": "code",
   "execution_count": 85,
   "id": "83aa8eb2-590f-45be-8c6e-207cda868503",
   "metadata": {
    "tags": []
   },
   "outputs": [
    {
     "name": "stdout",
     "output_type": "stream",
     "text": [
      "There are 121 neighborhoods that no longer have any short term airbnb listings!!!\n"
     ]
    },
    {
     "data": {
      "image/png": "[encoded data removed]",
      "text/plain": [
       "<Figure size 700x150 with 1 Axes>"
      ]
     },
     "metadata": {},
     "output_type": "display_data"
    }
   ],
   "source": [
    "# Plot neighborhood count pre/post ban for short term rentals\n",
    "st_listing_count_22 = rst_avg_df_n[\"2022\"].count()\n",
    "st_listing_count_23 = rst_avg_df_n[\"2023\"].count()\n",
    "short_term_listing_count = [st_listing_count_23, st_listing_count_22]\n",
    "x = [\"After Ban - 2023\", \"Before Ban - 2022\"]\n",
    "\n",
    "print(\"There are 121 neighborhoods that no longer have any short term airbnb listings!!!\")\n",
    "\n",
    "plt.figure(figsize=[7,1.5], layout='constrained', edgecolor='r')\n",
    "plt.barh(x, short_term_listing_count, height=.6, align=\"center\", color=['tab:orange','tab:blue'], \n",
    "         alpha=.75, )\n",
    "plt.title(\"Neighborhoods with Short Term Listings (less than 30 days)\")\n",
    "\n",
    "\n",
    "for index, value in enumerate(short_term_listing_count):\n",
    "    plt.text(value, index,\n",
    "             str(value), horizontalalignment='right', verticalalignment='center')\n",
    "\n",
    "plt.show()\n"
   ]
  },
  {
   "cell_type": "code",
   "execution_count": 74,
   "id": "1684ade3-138c-4924-a1ab-9cb2edc88095",
   "metadata": {
    "tags": []
   },
   "outputs": [
    {
     "name": "stdout",
     "output_type": "stream",
     "text": [
      "There are 121 neighborhoods that no longer have any short term airbnb listings!!!\n"
     ]
    },
    {
     "data": {
      "image/png": "[encoded data removed]",
      "text/plain": [
       "<Figure size 640x480 with 1 Axes>"
      ]
     },
     "metadata": {},
     "output_type": "display_data"
    }
   ],
   "source": [
    "# Plot neighborhood count pre/post ban for short term rentals\n",
    "st_listing_count_22 = rst_avg_df_n[\"2022\"].count()\n",
    "st_listing_count_23 = rst_avg_df_n[\"2023\"].count() \n",
    "short_term_listing_count = [st_listing_count_22, st_listing_count_23]\n",
    "x = [\"Before Ban - 2022\", \"After Ban - 2023\"]\n",
    "\n",
    "print(\"There are 121 neighborhoods that no longer have any short term airbnb listings!!!\")\n",
    "\n",
    "plt.bar(x=x, height=short_term_listing_count)\n",
    "plt.title(\"Neighborhoods with Short Term Listings (less than 30 days)\")\n",
    "\n",
    "# for index, value in enumerate(short_term_listing_count):\n",
    "#     plt.text(value, index,\n",
    "#              str(value))\n",
    "\n",
    "plt.show()\n"
   ]
  },
  {
   "cell_type": "code",
   "execution_count": 86,
   "id": "e98b4e04-8cbd-4dfe-89a2-80160fe890e0",
   "metadata": {
    "tags": []
   },
   "outputs": [],
   "source": [
    "# Look at reviews data\n",
    "reviews_df23 =pd.read_csv(\"../airbnb_reviews_oct_1_2023.csv\")"
   ]
  },
  {
   "cell_type": "code",
   "execution_count": 87,
   "id": "cfe61f5b-fafd-49f4-9268-7908239572ea",
   "metadata": {
    "tags": []
   },
   "outputs": [
    {
     "data": {
      "text/html": [
       "<div>\n",
       "<style scoped>\n",
       "    .dataframe tbody tr th:only-of-type {\n",
       "        vertical-align: middle;\n",
       "    }\n",
       "\n",
       "    .dataframe tbody tr th {\n",
       "        vertical-align: top;\n",
       "    }\n",
       "\n",
       "    .dataframe thead th {\n",
       "        text-align: right;\n",
       "    }\n",
       "</style>\n",
       "<table border=\"1\" class=\"dataframe\">\n",
       "  <thead>\n",
       "    <tr style=\"text-align: right;\">\n",
       "      <th></th>\n",
       "      <th>listing_id</th>\n",
       "      <th>date</th>\n",
       "    </tr>\n",
       "  </thead>\n",
       "  <tbody>\n",
       "    <tr>\n",
       "      <th>0</th>\n",
       "      <td>2595</td>\n",
       "      <td>2009-11-21</td>\n",
       "    </tr>\n",
       "    <tr>\n",
       "      <th>1</th>\n",
       "      <td>2595</td>\n",
       "      <td>2009-12-05</td>\n",
       "    </tr>\n",
       "    <tr>\n",
       "      <th>2</th>\n",
       "      <td>2595</td>\n",
       "      <td>2009-12-10</td>\n",
       "    </tr>\n",
       "    <tr>\n",
       "      <th>3</th>\n",
       "      <td>2595</td>\n",
       "      <td>2010-04-09</td>\n",
       "    </tr>\n",
       "    <tr>\n",
       "      <th>4</th>\n",
       "      <td>2595</td>\n",
       "      <td>2010-05-25</td>\n",
       "    </tr>\n",
       "  </tbody>\n",
       "</table>\n",
       "</div>"
      ],
      "text/plain": [
       "   listing_id        date\n",
       "0        2595  2009-11-21\n",
       "1        2595  2009-12-05\n",
       "2        2595  2009-12-10\n",
       "3        2595  2010-04-09\n",
       "4        2595  2010-05-25"
      ]
     },
     "execution_count": 87,
     "metadata": {},
     "output_type": "execute_result"
    }
   ],
   "source": [
    "reviews_df23.head()"
   ]
  },
  {
   "cell_type": "code",
   "execution_count": null,
   "id": "d9d7b4f9-44c3-4900-bd85-5ff0d3b635fa",
   "metadata": {},
   "outputs": [],
   "source": []
  }
 ],
 "metadata": {
  "kernelspec": {
   "display_name": "Python 3 (ipykernel)",
   "language": "python",
   "name": "python3"
  },
  "language_info": {
   "codemirror_mode": {
    "name": "ipython",
    "version": 3
   },
   "file_extension": ".py",
   "mimetype": "text/x-python",
   "name": "python",
   "nbconvert_exporter": "python",
   "pygments_lexer": "ipython3",
   "version": "3.11.4"
  }
 },
 "nbformat": 4,
 "nbformat_minor": 5
}
